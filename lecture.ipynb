{
  "nbformat": 4,
  "nbformat_minor": 0,
  "metadata": {
    "colab": {
      "provenance": [],
      "toc_visible": true,
      "name": "lecture",
      "authorship_tag": "ABX9TyMXF1ShfFe0F7OzthvBEaJX",
      "include_colab_link": true
    },
    "kernelspec": {
      "name": "python3",
      "display_name": "Python 3"
    },
    "language_info": {
      "name": "python"
    }
  },
  "cells": [
    {
      "cell_type": "markdown",
      "metadata": {
        "id": "view-in-github",
        "colab_type": "text"
      },
      "source": [
        "<a href=\"https://colab.research.google.com/github/yebyyy/Tokenization/blob/main/lecture.ipynb\" target=\"_parent\"><img src=\"https://colab.research.google.com/assets/colab-badge.svg\" alt=\"Open In Colab\"/></a>"
      ]
    },
    {
      "cell_type": "markdown",
      "source": [
        "### This notebook is for tokenization"
      ],
      "metadata": {
        "id": "BzE5VfZK_HWi"
      }
    },
    {
      "cell_type": "markdown",
      "source": [
        "Tokens are atoms of a llm"
      ],
      "metadata": {
        "id": "hebLKqwEPsVr"
      }
    },
    {
      "cell_type": "markdown",
      "source": [
        "#### Byte Level Tokenization\n",
        "Tiktokenizer.vercel.app -> GPT 2"
      ],
      "metadata": {
        "id": "vnGTmmEaPKyh"
      }
    },
    {
      "cell_type": "markdown",
      "source": [
        "English: space with the next word, single word sometimes changes, case sensitive"
      ],
      "metadata": {
        "id": "gJ20q5foSKdw"
      }
    },
    {
      "cell_type": "markdown",
      "source": [
        "Numbers: kinda arbitrary, sometimes single sometimes muiltiple"
      ],
      "metadata": {
        "id": "uLzXvjGFSOUv"
      }
    },
    {
      "cell_type": "markdown",
      "source": [
        "Non English language: slightly worse than English, longer tokens for English than in other languages, so same thing will lead to more tokens in other languages, chunks broken up more, thus same maximum context window will lead to worse performance"
      ],
      "metadata": {
        "id": "-17txXtvSiA9"
      }
    },
    {
      "cell_type": "markdown",
      "source": [
        "Code: leading space handled individually, wasting tokens"
      ],
      "metadata": {
        "id": "i4daDLyaTi6c"
      }
    },
    {
      "cell_type": "markdown",
      "source": [
        "GPT4 -> Token numbers dropped, python improved"
      ],
      "metadata": {
        "id": "fcFLc74lTxEY"
      }
    },
    {
      "cell_type": "markdown",
      "source": [
        "Not less better, there is an appropriate number"
      ],
      "metadata": {
        "id": "putl4KumUIYV"
      }
    },
    {
      "cell_type": "markdown",
      "source": [
        "----------------------------------------------------------------"
      ],
      "metadata": {
        "id": "QUKcVFPVwGMm"
      }
    },
    {
      "cell_type": "markdown",
      "source": [
        "#### Why not just use the Unicode?\n",
        "- Unicode changes every once in a while"
      ],
      "metadata": {
        "id": "ngolNZ6kwJco"
      }
    },
    {
      "cell_type": "markdown",
      "source": [
        "#### UTF-8\n",
        "Based on the Unicode, turn characters into 1~4 byte representations"
      ],
      "metadata": {
        "id": "hbCa2xwKwzzJ"
      }
    },
    {
      "cell_type": "code",
      "execution_count": 2,
      "metadata": {
        "id": "niTyM9qG97kB",
        "colab": {
          "base_uri": "https://localhost:8080/"
        },
        "outputId": "30c850e2-b0f1-4b2c-bd8e-008c978c94f3"
      },
      "outputs": [
        {
          "output_type": "execute_result",
          "data": {
            "text/plain": [
              "[228,\n",
              " 189,\n",
              " 160,\n",
              " 229,\n",
              " 165,\n",
              " 189,\n",
              " 230,\n",
              " 136,\n",
              " 145,\n",
              " 230,\n",
              " 152,\n",
              " 175,\n",
              " 82,\n",
              " 111,\n",
              " 98,\n",
              " 98,\n",
              " 105,\n",
              " 101]"
            ]
          },
          "metadata": {},
          "execution_count": 2
        }
      ],
      "source": [
        "list(\"你好我是Robbie\".encode(\"utf-8\"))"
      ]
    },
    {
      "cell_type": "code",
      "source": [
        "list(\"你好我是Robbie\".encode(\"utf-16\"))"
      ],
      "metadata": {
        "colab": {
          "base_uri": "https://localhost:8080/"
        },
        "id": "ZFb-gXUizSy4",
        "outputId": "ff1e8f02-78cf-4b48-a3b8-7eab022e8cd6"
      },
      "execution_count": 3,
      "outputs": [
        {
          "output_type": "execute_result",
          "data": {
            "text/plain": [
              "[255,\n",
              " 254,\n",
              " 96,\n",
              " 79,\n",
              " 125,\n",
              " 89,\n",
              " 17,\n",
              " 98,\n",
              " 47,\n",
              " 102,\n",
              " 82,\n",
              " 0,\n",
              " 111,\n",
              " 0,\n",
              " 98,\n",
              " 0,\n",
              " 98,\n",
              " 0,\n",
              " 105,\n",
              " 0,\n",
              " 101,\n",
              " 0]"
            ]
          },
          "metadata": {},
          "execution_count": 3
        }
      ]
    },
    {
      "cell_type": "code",
      "source": [
        "list(\"你好我是Robbie\".encode(\"utf-16\"))"
      ],
      "metadata": {
        "colab": {
          "base_uri": "https://localhost:8080/"
        },
        "id": "1QAjWRX0zT5f",
        "outputId": "78ff6506-efae-4442-d251-5a0528b4a15d"
      },
      "execution_count": 4,
      "outputs": [
        {
          "output_type": "execute_result",
          "data": {
            "text/plain": [
              "[255,\n",
              " 254,\n",
              " 96,\n",
              " 79,\n",
              " 125,\n",
              " 89,\n",
              " 17,\n",
              " 98,\n",
              " 47,\n",
              " 102,\n",
              " 82,\n",
              " 0,\n",
              " 111,\n",
              " 0,\n",
              " 98,\n",
              " 0,\n",
              " 98,\n",
              " 0,\n",
              " 105,\n",
              " 0,\n",
              " 101,\n",
              " 0]"
            ]
          },
          "metadata": {},
          "execution_count": 4
        }
      ]
    },
    {
      "cell_type": "markdown",
      "source": [
        "The thing with UTF-16 and UTF-32 is the 0s here representing the waste of tokens"
      ],
      "metadata": {
        "id": "SP4jdx0-zdGo"
      }
    },
    {
      "cell_type": "markdown",
      "source": [
        "#### Why not just use UTF-8?\n",
        "- Since 1 byte is only a size of 256, which is very limited, and the text will be very stretched out, as demonstrated in the UTF-8 encode list"
      ],
      "metadata": {
        "id": "n9UJria-zv-A"
      }
    },
    {
      "cell_type": "markdown",
      "source": [
        "#### Solution: Byte Pair Encoding (BPE) Algorithm"
      ],
      "metadata": {
        "id": "uOIf5r9e4W0u"
      }
    },
    {
      "cell_type": "markdown",
      "source": [
        "- Iteratively replace the most common contiguous sequences of characters in our vocabulary, and replace every occurrence of it by a new token(not in the vocabulary)"
      ],
      "metadata": {
        "id": "Lh_aWOonMPDG"
      }
    },
    {
      "cell_type": "markdown",
      "source": [
        "### Encoding"
      ],
      "metadata": {
        "id": "9Z9N_xjaOsyc"
      }
    },
    {
      "cell_type": "code",
      "source": [
        "text = \"Ｕｎｉｃｏｄｅ! 🅤🅝🅘🅒🅞🅓🅔‽ 🇺‌🇳‌🇮‌🇨‌🇴‌🇩‌🇪! 😄 The very name strikes fear and awe into the hearts of programmers worldwide. We all know we ought to “support Unicode” in our software (whatever that means—like using wchar_t for all the strings, right?). But Unicode can be abstruse, and diving into the thousand-page Unicode Standard plus its dozens of supplementary annexes, reports, and notes can be more than a little intimidating. I don’t blame programmers for still finding the whole thing mysterious, even 30 years after Unicode’s inception.\"\n",
        "utf8 = list(map(int, text.encode(\"utf-8\")))\n",
        "len(text) < len(utf8)"
      ],
      "metadata": {
        "colab": {
          "base_uri": "https://localhost:8080/"
        },
        "id": "LYUgDN_VzkPQ",
        "outputId": "99b5255f-115c-4fda-e967-98591d376770"
      },
      "execution_count": 5,
      "outputs": [
        {
          "output_type": "execute_result",
          "data": {
            "text/plain": [
              "True"
            ]
          },
          "metadata": {},
          "execution_count": 5
        }
      ]
    },
    {
      "cell_type": "markdown",
      "source": [
        "Some of the characters have more than one byte"
      ],
      "metadata": {
        "id": "wi8OnledPXyu"
      }
    },
    {
      "cell_type": "markdown",
      "source": [
        "Find the most common pair:"
      ],
      "metadata": {
        "id": "fD58kJ35PhLr"
      }
    },
    {
      "cell_type": "code",
      "source": [
        "def find_most_common(intList):\n",
        "  counts = {}\n",
        "  for pair in zip(intList, intList[1:]):\n",
        "    counts[pair] = counts.get(pair, 0) + 1\n",
        "  return counts\n",
        "common = find_most_common(utf8)\n",
        "commonList = sorted([(c, p) for p, c in common.items()], reverse=True)\n",
        "commonList"
      ],
      "metadata": {
        "colab": {
          "base_uri": "https://localhost:8080/"
        },
        "id": "LpW9JcxlPPPn",
        "outputId": "2eb75513-a92b-41fc-f3b9-6b95cf0faa4a"
      },
      "execution_count": 6,
      "outputs": [
        {
          "output_type": "execute_result",
          "data": {
            "text/plain": [
              "[(20, (101, 32)),\n",
              " (15, (240, 159)),\n",
              " (12, (226, 128)),\n",
              " (12, (105, 110)),\n",
              " (10, (115, 32)),\n",
              " (10, (97, 110)),\n",
              " (10, (32, 97)),\n",
              " (9, (32, 116)),\n",
              " (8, (116, 104)),\n",
              " (7, (159, 135)),\n",
              " (7, (159, 133)),\n",
              " (7, (97, 114)),\n",
              " (6, (239, 189)),\n",
              " (6, (140, 240)),\n",
              " (6, (128, 140)),\n",
              " (6, (116, 32)),\n",
              " (6, (114, 32)),\n",
              " (6, (111, 114)),\n",
              " (6, (110, 103)),\n",
              " (6, (110, 100)),\n",
              " (6, (109, 101)),\n",
              " (6, (104, 101)),\n",
              " (6, (101, 114)),\n",
              " (6, (32, 105)),\n",
              " (5, (117, 115)),\n",
              " (5, (115, 116)),\n",
              " (5, (110, 32)),\n",
              " (5, (100, 101)),\n",
              " (5, (44, 32)),\n",
              " (5, (32, 115)),\n",
              " (4, (116, 105)),\n",
              " (4, (116, 101)),\n",
              " (4, (115, 44)),\n",
              " (4, (114, 105)),\n",
              " (4, (111, 117)),\n",
              " (4, (111, 100)),\n",
              " (4, (110, 116)),\n",
              " (4, (110, 105)),\n",
              " (4, (105, 99)),\n",
              " (4, (104, 97)),\n",
              " (4, (103, 32)),\n",
              " (4, (101, 97)),\n",
              " (4, (100, 32)),\n",
              " (4, (99, 111)),\n",
              " (4, (97, 109)),\n",
              " (4, (85, 110)),\n",
              " (4, (32, 119)),\n",
              " (4, (32, 111)),\n",
              " (4, (32, 102)),\n",
              " (4, (32, 85)),\n",
              " (3, (118, 101)),\n",
              " (3, (116, 115)),\n",
              " (3, (116, 114)),\n",
              " (3, (116, 111)),\n",
              " (3, (114, 116)),\n",
              " (3, (114, 115)),\n",
              " (3, (114, 101)),\n",
              " (3, (111, 102)),\n",
              " (3, (111, 32)),\n",
              " (3, (108, 108)),\n",
              " (3, (108, 101)),\n",
              " (3, (108, 32)),\n",
              " (3, (101, 115)),\n",
              " (3, (101, 110)),\n",
              " (3, (97, 116)),\n",
              " (3, (46, 32)),\n",
              " (3, (32, 240)),\n",
              " (3, (32, 112)),\n",
              " (3, (32, 109)),\n",
              " (3, (32, 100)),\n",
              " (3, (32, 98)),\n",
              " (2, (128, 153)),\n",
              " (2, (121, 32)),\n",
              " (2, (119, 104)),\n",
              " (2, (119, 101)),\n",
              " (2, (117, 112)),\n",
              " (2, (116, 97)),\n",
              " (2, (115, 117)),\n",
              " (2, (114, 121)),\n",
              " (2, (114, 111)),\n",
              " (2, (114, 97)),\n",
              " (2, (112, 114)),\n",
              " (2, (112, 112)),\n",
              " (2, (112, 111)),\n",
              " (2, (112, 108)),\n",
              " (2, (111, 110)),\n",
              " (2, (111, 103)),\n",
              " (2, (110, 115)),\n",
              " (2, (110, 111)),\n",
              " (2, (109, 109)),\n",
              " (2, (108, 105)),\n",
              " (2, (107, 101)),\n",
              " (2, (105, 116)),\n",
              " (2, (105, 111)),\n",
              " (2, (105, 107)),\n",
              " (2, (105, 100)),\n",
              " (2, (104, 116)),\n",
              " (2, (104, 111)),\n",
              " (2, (103, 114)),\n",
              " (2, (103, 104)),\n",
              " (2, (102, 116)),\n",
              " (2, (102, 111)),\n",
              " (2, (102, 32)),\n",
              " (2, (101, 226)),\n",
              " (2, (101, 118)),\n",
              " (2, (101, 112)),\n",
              " (2, (100, 111)),\n",
              " (2, (100, 105)),\n",
              " (2, (100, 97)),\n",
              " (2, (99, 97)),\n",
              " (2, (98, 101)),\n",
              " (2, (97, 108)),\n",
              " (2, (33, 32)),\n",
              " (2, (32, 114)),\n",
              " (2, (32, 110)),\n",
              " (2, (32, 99)),\n",
              " (1, (239, 188)),\n",
              " (1, (189, 143)),\n",
              " (1, (189, 142)),\n",
              " (1, (189, 137)),\n",
              " (1, (189, 133)),\n",
              " (1, (189, 132)),\n",
              " (1, (189, 131)),\n",
              " (1, (189, 32)),\n",
              " (1, (188, 181)),\n",
              " (1, (186, 226)),\n",
              " (1, (181, 239)),\n",
              " (1, (180, 226)),\n",
              " (1, (179, 226)),\n",
              " (1, (174, 226)),\n",
              " (1, (170, 33)),\n",
              " (1, (169, 226)),\n",
              " (1, (168, 226)),\n",
              " (1, (164, 240)),\n",
              " (1, (159, 152)),\n",
              " (1, (158, 240)),\n",
              " (1, (157, 240)),\n",
              " (1, (157, 32)),\n",
              " (1, (156, 115)),\n",
              " (1, (153, 116)),\n",
              " (1, (153, 115)),\n",
              " (1, (152, 240)),\n",
              " (1, (152, 132)),\n",
              " (1, (148, 226)),\n",
              " (1, (148, 108)),\n",
              " (1, (147, 240)),\n",
              " (1, (146, 240)),\n",
              " (1, (143, 239)),\n",
              " (1, (142, 239)),\n",
              " (1, (137, 239)),\n",
              " (1, (135, 186)),\n",
              " (1, (135, 180)),\n",
              " (1, (135, 179)),\n",
              " (1, (135, 174)),\n",
              " (1, (135, 170)),\n",
              " (1, (135, 169)),\n",
              " (1, (135, 168)),\n",
              " (1, (133, 164)),\n",
              " (1, (133, 158)),\n",
              " (1, (133, 157)),\n",
              " (1, (133, 152)),\n",
              " (1, (133, 148)),\n",
              " (1, (133, 147)),\n",
              " (1, (133, 146)),\n",
              " (1, (133, 33)),\n",
              " (1, (132, 239)),\n",
              " (1, (132, 32)),\n",
              " (1, (131, 239)),\n",
              " (1, (128, 189)),\n",
              " (1, (128, 157)),\n",
              " (1, (128, 156)),\n",
              " (1, (128, 148)),\n",
              " (1, (122, 101)),\n",
              " (1, (121, 115)),\n",
              " (1, (121, 101)),\n",
              " (1, (120, 101)),\n",
              " (1, (119, 111)),\n",
              " (1, (119, 105)),\n",
              " (1, (119, 99)),\n",
              " (1, (119, 97)),\n",
              " (1, (119, 32)),\n",
              " (1, (118, 105)),\n",
              " (1, (117, 116)),\n",
              " (1, (117, 114)),\n",
              " (1, (117, 103)),\n",
              " (1, (116, 119)),\n",
              " (1, (116, 116)),\n",
              " (1, (116, 108)),\n",
              " (1, (116, 63)),\n",
              " (1, (115, 226)),\n",
              " (1, (115, 111)),\n",
              " (1, (115, 105)),\n",
              " (1, (115, 101)),\n",
              " (1, (115, 97)),\n",
              " (1, (114, 117)),\n",
              " (1, (114, 108)),\n",
              " (1, (114, 100)),\n",
              " (1, (114, 95)),\n",
              " (1, (112, 116)),\n",
              " (1, (112, 97)),\n",
              " (1, (111, 122)),\n",
              " (1, (111, 119)),\n",
              " (1, (111, 116)),\n",
              " (1, (111, 108)),\n",
              " (1, (110, 226)),\n",
              " (1, (110, 110)),\n",
              " (1, (110, 101)),\n",
              " (1, (110, 99)),\n",
              " (1, (110, 97)),\n",
              " (1, (110, 46)),\n",
              " (1, (109, 121)),\n",
              " (1, (109, 111)),\n",
              " (1, (109, 105)),\n",
              " (1, (108, 117)),\n",
              " (1, (108, 100)),\n",
              " (1, (108, 97)),\n",
              " (1, (107, 110)),\n",
              " (1, (105, 118)),\n",
              " (1, (105, 109)),\n",
              " (1, (105, 108)),\n",
              " (1, (105, 103)),\n",
              " (1, (104, 105)),\n",
              " (1, (103, 115)),\n",
              " (1, (103, 101)),\n",
              " (1, (103, 46)),\n",
              " (1, (102, 105)),\n",
              " (1, (102, 101)),\n",
              " (1, (101, 120)),\n",
              " (1, (101, 109)),\n",
              " (1, (101, 46)),\n",
              " (1, (101, 44)),\n",
              " (1, (100, 119)),\n",
              " (1, (100, 45)),\n",
              " (1, (99, 104)),\n",
              " (1, (99, 101)),\n",
              " (1, (98, 115)),\n",
              " (1, (98, 108)),\n",
              " (1, (97, 119)),\n",
              " (1, (97, 103)),\n",
              " (1, (97, 102)),\n",
              " (1, (97, 98)),\n",
              " (1, (97, 32)),\n",
              " (1, (95, 116)),\n",
              " (1, (87, 101)),\n",
              " (1, (84, 104)),\n",
              " (1, (83, 116)),\n",
              " (1, (73, 32)),\n",
              " (1, (66, 117)),\n",
              " (1, (63, 41)),\n",
              " (1, (51, 48)),\n",
              " (1, (48, 32)),\n",
              " (1, (45, 112)),\n",
              " (1, (41, 46)),\n",
              " (1, (40, 119)),\n",
              " (1, (32, 226)),\n",
              " (1, (32, 121)),\n",
              " (1, (32, 118)),\n",
              " (1, (32, 117)),\n",
              " (1, (32, 108)),\n",
              " (1, (32, 107)),\n",
              " (1, (32, 104)),\n",
              " (1, (32, 101)),\n",
              " (1, (32, 87)),\n",
              " (1, (32, 84)),\n",
              " (1, (32, 83)),\n",
              " (1, (32, 73)),\n",
              " (1, (32, 66)),\n",
              " (1, (32, 51)),\n",
              " (1, (32, 40))]"
            ]
          },
          "metadata": {},
          "execution_count": 6
        }
      ]
    },
    {
      "cell_type": "code",
      "source": [
        "top_pair = max(common, key=common.get)\n",
        "top_pair"
      ],
      "metadata": {
        "colab": {
          "base_uri": "https://localhost:8080/"
        },
        "id": "QaRZxXP-UXP1",
        "outputId": "a454beb5-72a4-4dfd-ef7c-55038fe9e2ee"
      },
      "execution_count": 7,
      "outputs": [
        {
          "output_type": "execute_result",
          "data": {
            "text/plain": [
              "(101, 32)"
            ]
          },
          "metadata": {},
          "execution_count": 7
        }
      ]
    },
    {
      "cell_type": "code",
      "source": [
        "chr(101), chr(32)"
      ],
      "metadata": {
        "colab": {
          "base_uri": "https://localhost:8080/"
        },
        "id": "CutF88NxTXgq",
        "outputId": "8cf3fd73-4432-4ee8-8272-da7e93a5bd59"
      },
      "execution_count": 8,
      "outputs": [
        {
          "output_type": "execute_result",
          "data": {
            "text/plain": [
              "('e', ' ')"
            ]
          },
          "metadata": {},
          "execution_count": 8
        }
      ]
    },
    {
      "cell_type": "markdown",
      "source": [
        "'e ' is the most common pair in this iteration"
      ],
      "metadata": {
        "id": "e4mB8DW4TewG"
      }
    },
    {
      "cell_type": "markdown",
      "source": [
        "- Now we need to iterate over the text and replace 'e ' with a character of ord(char) = 256, since the given text is from 0-255"
      ],
      "metadata": {
        "id": "A8F8PcSyT7H_"
      }
    },
    {
      "cell_type": "code",
      "source": [
        "def replace_key(intList, pair, replacement):\n",
        "  newList = []\n",
        "  i = 0\n",
        "  while i < len(intList):\n",
        "    if i < len(intList) - 1 and intList[i] == pair[0] and intList[i+1] == pair[1]:\n",
        "      newList.append(replacement)\n",
        "      i += 2\n",
        "    else:\n",
        "      newList.append(intList[i])\n",
        "      i += 1\n",
        "  return newList\n",
        "\n",
        "tokens = replace_key(utf8, top_pair, 256)\n",
        "tokens, len(tokens)"
      ],
      "metadata": {
        "colab": {
          "base_uri": "https://localhost:8080/"
        },
        "id": "vOB8bb8JTkp4",
        "outputId": "18cec5e2-be1f-4399-9472-a725bd114613"
      },
      "execution_count": 9,
      "outputs": [
        {
          "output_type": "execute_result",
          "data": {
            "text/plain": [
              "([239,\n",
              "  188,\n",
              "  181,\n",
              "  239,\n",
              "  189,\n",
              "  142,\n",
              "  239,\n",
              "  189,\n",
              "  137,\n",
              "  239,\n",
              "  189,\n",
              "  131,\n",
              "  239,\n",
              "  189,\n",
              "  143,\n",
              "  239,\n",
              "  189,\n",
              "  132,\n",
              "  239,\n",
              "  189,\n",
              "  133,\n",
              "  33,\n",
              "  32,\n",
              "  240,\n",
              "  159,\n",
              "  133,\n",
              "  164,\n",
              "  240,\n",
              "  159,\n",
              "  133,\n",
              "  157,\n",
              "  240,\n",
              "  159,\n",
              "  133,\n",
              "  152,\n",
              "  240,\n",
              "  159,\n",
              "  133,\n",
              "  146,\n",
              "  240,\n",
              "  159,\n",
              "  133,\n",
              "  158,\n",
              "  240,\n",
              "  159,\n",
              "  133,\n",
              "  147,\n",
              "  240,\n",
              "  159,\n",
              "  133,\n",
              "  148,\n",
              "  226,\n",
              "  128,\n",
              "  189,\n",
              "  32,\n",
              "  240,\n",
              "  159,\n",
              "  135,\n",
              "  186,\n",
              "  226,\n",
              "  128,\n",
              "  140,\n",
              "  240,\n",
              "  159,\n",
              "  135,\n",
              "  179,\n",
              "  226,\n",
              "  128,\n",
              "  140,\n",
              "  240,\n",
              "  159,\n",
              "  135,\n",
              "  174,\n",
              "  226,\n",
              "  128,\n",
              "  140,\n",
              "  240,\n",
              "  159,\n",
              "  135,\n",
              "  168,\n",
              "  226,\n",
              "  128,\n",
              "  140,\n",
              "  240,\n",
              "  159,\n",
              "  135,\n",
              "  180,\n",
              "  226,\n",
              "  128,\n",
              "  140,\n",
              "  240,\n",
              "  159,\n",
              "  135,\n",
              "  169,\n",
              "  226,\n",
              "  128,\n",
              "  140,\n",
              "  240,\n",
              "  159,\n",
              "  135,\n",
              "  170,\n",
              "  33,\n",
              "  32,\n",
              "  240,\n",
              "  159,\n",
              "  152,\n",
              "  132,\n",
              "  32,\n",
              "  84,\n",
              "  104,\n",
              "  256,\n",
              "  118,\n",
              "  101,\n",
              "  114,\n",
              "  121,\n",
              "  32,\n",
              "  110,\n",
              "  97,\n",
              "  109,\n",
              "  256,\n",
              "  115,\n",
              "  116,\n",
              "  114,\n",
              "  105,\n",
              "  107,\n",
              "  101,\n",
              "  115,\n",
              "  32,\n",
              "  102,\n",
              "  101,\n",
              "  97,\n",
              "  114,\n",
              "  32,\n",
              "  97,\n",
              "  110,\n",
              "  100,\n",
              "  32,\n",
              "  97,\n",
              "  119,\n",
              "  256,\n",
              "  105,\n",
              "  110,\n",
              "  116,\n",
              "  111,\n",
              "  32,\n",
              "  116,\n",
              "  104,\n",
              "  256,\n",
              "  104,\n",
              "  101,\n",
              "  97,\n",
              "  114,\n",
              "  116,\n",
              "  115,\n",
              "  32,\n",
              "  111,\n",
              "  102,\n",
              "  32,\n",
              "  112,\n",
              "  114,\n",
              "  111,\n",
              "  103,\n",
              "  114,\n",
              "  97,\n",
              "  109,\n",
              "  109,\n",
              "  101,\n",
              "  114,\n",
              "  115,\n",
              "  32,\n",
              "  119,\n",
              "  111,\n",
              "  114,\n",
              "  108,\n",
              "  100,\n",
              "  119,\n",
              "  105,\n",
              "  100,\n",
              "  101,\n",
              "  46,\n",
              "  32,\n",
              "  87,\n",
              "  256,\n",
              "  97,\n",
              "  108,\n",
              "  108,\n",
              "  32,\n",
              "  107,\n",
              "  110,\n",
              "  111,\n",
              "  119,\n",
              "  32,\n",
              "  119,\n",
              "  256,\n",
              "  111,\n",
              "  117,\n",
              "  103,\n",
              "  104,\n",
              "  116,\n",
              "  32,\n",
              "  116,\n",
              "  111,\n",
              "  32,\n",
              "  226,\n",
              "  128,\n",
              "  156,\n",
              "  115,\n",
              "  117,\n",
              "  112,\n",
              "  112,\n",
              "  111,\n",
              "  114,\n",
              "  116,\n",
              "  32,\n",
              "  85,\n",
              "  110,\n",
              "  105,\n",
              "  99,\n",
              "  111,\n",
              "  100,\n",
              "  101,\n",
              "  226,\n",
              "  128,\n",
              "  157,\n",
              "  32,\n",
              "  105,\n",
              "  110,\n",
              "  32,\n",
              "  111,\n",
              "  117,\n",
              "  114,\n",
              "  32,\n",
              "  115,\n",
              "  111,\n",
              "  102,\n",
              "  116,\n",
              "  119,\n",
              "  97,\n",
              "  114,\n",
              "  256,\n",
              "  40,\n",
              "  119,\n",
              "  104,\n",
              "  97,\n",
              "  116,\n",
              "  101,\n",
              "  118,\n",
              "  101,\n",
              "  114,\n",
              "  32,\n",
              "  116,\n",
              "  104,\n",
              "  97,\n",
              "  116,\n",
              "  32,\n",
              "  109,\n",
              "  101,\n",
              "  97,\n",
              "  110,\n",
              "  115,\n",
              "  226,\n",
              "  128,\n",
              "  148,\n",
              "  108,\n",
              "  105,\n",
              "  107,\n",
              "  256,\n",
              "  117,\n",
              "  115,\n",
              "  105,\n",
              "  110,\n",
              "  103,\n",
              "  32,\n",
              "  119,\n",
              "  99,\n",
              "  104,\n",
              "  97,\n",
              "  114,\n",
              "  95,\n",
              "  116,\n",
              "  32,\n",
              "  102,\n",
              "  111,\n",
              "  114,\n",
              "  32,\n",
              "  97,\n",
              "  108,\n",
              "  108,\n",
              "  32,\n",
              "  116,\n",
              "  104,\n",
              "  256,\n",
              "  115,\n",
              "  116,\n",
              "  114,\n",
              "  105,\n",
              "  110,\n",
              "  103,\n",
              "  115,\n",
              "  44,\n",
              "  32,\n",
              "  114,\n",
              "  105,\n",
              "  103,\n",
              "  104,\n",
              "  116,\n",
              "  63,\n",
              "  41,\n",
              "  46,\n",
              "  32,\n",
              "  66,\n",
              "  117,\n",
              "  116,\n",
              "  32,\n",
              "  85,\n",
              "  110,\n",
              "  105,\n",
              "  99,\n",
              "  111,\n",
              "  100,\n",
              "  256,\n",
              "  99,\n",
              "  97,\n",
              "  110,\n",
              "  32,\n",
              "  98,\n",
              "  256,\n",
              "  97,\n",
              "  98,\n",
              "  115,\n",
              "  116,\n",
              "  114,\n",
              "  117,\n",
              "  115,\n",
              "  101,\n",
              "  44,\n",
              "  32,\n",
              "  97,\n",
              "  110,\n",
              "  100,\n",
              "  32,\n",
              "  100,\n",
              "  105,\n",
              "  118,\n",
              "  105,\n",
              "  110,\n",
              "  103,\n",
              "  32,\n",
              "  105,\n",
              "  110,\n",
              "  116,\n",
              "  111,\n",
              "  32,\n",
              "  116,\n",
              "  104,\n",
              "  256,\n",
              "  116,\n",
              "  104,\n",
              "  111,\n",
              "  117,\n",
              "  115,\n",
              "  97,\n",
              "  110,\n",
              "  100,\n",
              "  45,\n",
              "  112,\n",
              "  97,\n",
              "  103,\n",
              "  256,\n",
              "  85,\n",
              "  110,\n",
              "  105,\n",
              "  99,\n",
              "  111,\n",
              "  100,\n",
              "  256,\n",
              "  83,\n",
              "  116,\n",
              "  97,\n",
              "  110,\n",
              "  100,\n",
              "  97,\n",
              "  114,\n",
              "  100,\n",
              "  32,\n",
              "  112,\n",
              "  108,\n",
              "  117,\n",
              "  115,\n",
              "  32,\n",
              "  105,\n",
              "  116,\n",
              "  115,\n",
              "  32,\n",
              "  100,\n",
              "  111,\n",
              "  122,\n",
              "  101,\n",
              "  110,\n",
              "  115,\n",
              "  32,\n",
              "  111,\n",
              "  102,\n",
              "  32,\n",
              "  115,\n",
              "  117,\n",
              "  112,\n",
              "  112,\n",
              "  108,\n",
              "  101,\n",
              "  109,\n",
              "  101,\n",
              "  110,\n",
              "  116,\n",
              "  97,\n",
              "  114,\n",
              "  121,\n",
              "  32,\n",
              "  97,\n",
              "  110,\n",
              "  110,\n",
              "  101,\n",
              "  120,\n",
              "  101,\n",
              "  115,\n",
              "  44,\n",
              "  32,\n",
              "  114,\n",
              "  101,\n",
              "  112,\n",
              "  111,\n",
              "  114,\n",
              "  116,\n",
              "  115,\n",
              "  44,\n",
              "  32,\n",
              "  97,\n",
              "  110,\n",
              "  100,\n",
              "  32,\n",
              "  110,\n",
              "  111,\n",
              "  116,\n",
              "  101,\n",
              "  115,\n",
              "  32,\n",
              "  99,\n",
              "  97,\n",
              "  110,\n",
              "  32,\n",
              "  98,\n",
              "  256,\n",
              "  109,\n",
              "  111,\n",
              "  114,\n",
              "  256,\n",
              "  116,\n",
              "  104,\n",
              "  97,\n",
              "  110,\n",
              "  32,\n",
              "  97,\n",
              "  32,\n",
              "  108,\n",
              "  105,\n",
              "  116,\n",
              "  116,\n",
              "  108,\n",
              "  256,\n",
              "  105,\n",
              "  110,\n",
              "  116,\n",
              "  105,\n",
              "  109,\n",
              "  105,\n",
              "  100,\n",
              "  97,\n",
              "  116,\n",
              "  105,\n",
              "  110,\n",
              "  103,\n",
              "  46,\n",
              "  32,\n",
              "  73,\n",
              "  32,\n",
              "  100,\n",
              "  111,\n",
              "  110,\n",
              "  226,\n",
              "  128,\n",
              "  153,\n",
              "  116,\n",
              "  32,\n",
              "  98,\n",
              "  108,\n",
              "  97,\n",
              "  109,\n",
              "  256,\n",
              "  112,\n",
              "  114,\n",
              "  111,\n",
              "  103,\n",
              "  114,\n",
              "  97,\n",
              "  109,\n",
              "  109,\n",
              "  101,\n",
              "  114,\n",
              "  115,\n",
              "  32,\n",
              "  102,\n",
              "  111,\n",
              "  114,\n",
              "  32,\n",
              "  115,\n",
              "  116,\n",
              "  105,\n",
              "  108,\n",
              "  108,\n",
              "  32,\n",
              "  102,\n",
              "  105,\n",
              "  110,\n",
              "  100,\n",
              "  105,\n",
              "  110,\n",
              "  103,\n",
              "  32,\n",
              "  116,\n",
              "  104,\n",
              "  256,\n",
              "  119,\n",
              "  104,\n",
              "  111,\n",
              "  108,\n",
              "  256,\n",
              "  116,\n",
              "  104,\n",
              "  105,\n",
              "  110,\n",
              "  103,\n",
              "  32,\n",
              "  109,\n",
              "  121,\n",
              "  115,\n",
              "  116,\n",
              "  101,\n",
              "  114,\n",
              "  105,\n",
              "  111,\n",
              "  117,\n",
              "  115,\n",
              "  44,\n",
              "  32,\n",
              "  101,\n",
              "  118,\n",
              "  101,\n",
              "  110,\n",
              "  32,\n",
              "  51,\n",
              "  48,\n",
              "  32,\n",
              "  121,\n",
              "  101,\n",
              "  97,\n",
              "  114,\n",
              "  115,\n",
              "  32,\n",
              "  97,\n",
              "  102,\n",
              "  116,\n",
              "  101,\n",
              "  114,\n",
              "  32,\n",
              "  85,\n",
              "  110,\n",
              "  105,\n",
              "  99,\n",
              "  111,\n",
              "  100,\n",
              "  101,\n",
              "  226,\n",
              "  128,\n",
              "  153,\n",
              "  115,\n",
              "  32,\n",
              "  105,\n",
              "  110,\n",
              "  99,\n",
              "  101,\n",
              "  112,\n",
              "  116,\n",
              "  105,\n",
              "  111,\n",
              "  110,\n",
              "  46],\n",
              " 596)"
            ]
          },
          "metadata": {},
          "execution_count": 9
        }
      ]
    },
    {
      "cell_type": "markdown",
      "source": [
        "#### Training the tokenizer\n",
        "Putting everything together"
      ],
      "metadata": {
        "id": "YwvpW31ph03X"
      }
    },
    {
      "cell_type": "code",
      "source": [
        "text = \"A Programmer’s Introduction to UnicodeMarch 3, 2017 · Coding · 24 CommentsＵｎｉｃｏｄｅ! 🅤🅝🅘🅒🅞🅓🅔‽ 🇺‌🇳‌🇮‌🇨‌🇴‌🇩‌🇪! 😄 The very name strikes fear and awe into the hearts of programmers worldwide. We all know we ought to “support Unicode” in our software (whatever that means—like using wchar_t for all the strings, right?). But Unicode can be abstruse, and diving into the thousand-page Unicode Standard plus its dozens of supplementary annexes, reports, and notes can be more than a little intimidating. I don’t blame programmers for still finding the whole thing mysterious, even 30 years after Unicode’s inception.A few months ago, I got interested in Unicode and decided to spend some time learning more about it in detail. In this article, I’ll give an introduction to it from a programmer’s point of view.I’m going to focus on the character set and what’s involved in working with strings and files of Unicode text. However, in this article I’m not going to talk about fonts, text layout/shaping/rendering, or localization in detail—those are separate issues, beyond my scope (and knowledge) here.Diversity and Inherent ComplexityThe Unicode CodespaceCodespace AllocationScriptsUsage FrequencyEncodingsUTF-8UTF-16Combining MarksCanonical EquivalenceNormalization FormsGrapheme ClustersAnd More…Diversity and Inherent ComplexityAs soon as you start to study Unicode, it becomes clear that it represents a large jump in complexity over character sets like ASCII that you may be more familiar with. It’s not just that Unicode contains a much larger number of characters, although that’s part of it. Unicode also has a great deal of internal structure, features, and special cases, making it much more than what one might expect a mere “character set” to be. We’ll see some of that later in this article.When confronting all this complexity, especially as an engineer, it’s hard not to find oneself asking, “Why do we need all this? Is this really necessary? Couldn’t it be simplified?”However, Unicode aims to faithfully represent the entire world’s writing systems. The Unicode Consortium’s stated goal is “enabling people around the world to use computers in any language”. And as you might imagine, the diversity of written languages is immense! To date, Unicode supports 135 different scripts, covering some 1100 languages, and there’s still a long tail of over 100 unsupported scripts, both modern and historical, which people are still working to add.Given this enormous diversity, it’s inevitable that representing it is a complicated project. Unicode embraces that diversity, and accepts the complexity inherent in its mission to include all human writing systems. It doesn’t make a lot of trade-offs in the name of simplification, and it makes exceptions to its own rules where necessary to further its mission.Moreover, Unicode is committed not just to supporting texts in any single language, but also to letting multiple languages coexist within one text—which introduces even more complexity.Most programming languages have libraries available to handle the gory low-level details of text manipulation, but as a programmer, you’ll still need to know about certain Unicode features in order to know when and how to apply them. It may take some time to wrap your head around it all, but don’t be discouraged—think about the billions of people for whom your software will be more accessible through supporting text in their language. Embrace the complexity!The Unicode CodespaceLet’s start with some general orientation. The basic elements of Unicode—its “characters”, although that term isn’t quite right—are called code points. Code points are identified by number, customarily written in hexadecimal with the prefix “U+”, such as U+0041 “A” latin capital letter a or U+03B8 “θ” greek small letter theta. Each code point also has a short name, and quite a few other properties, specified in the Unicode Character Database.The set of all possible code points is called the codespace. The Unicode codespace consists of 1,114,112 code points. However, only 128,237 of them—about 12% of the codespace—are actually assigned, to date. There’s plenty of room for growth! Unicode also reserves an additional 137,468 code points as “private use” areas, which have no standardized meaning and are available for individual applications to define for their own purposes.Codespace AllocationTo get a feel for how the codespace is laid out, it’s helpful to visualize it. Below is a map of the entire codespace, with one pixel per code point. It’s arranged in tiles for visual coherence; each small square is 16×16 = 256 code points, and each large square is a “plane” of 65,536 code points. There are 17 planes altogether.Map of the Unicode codespace (click to zoom)White represents unassigned space. Blue is assigned code points, green is private-use areas, and the small red area is surrogates (more about those later). As you can see, the assigned code points are distributed somewhat sparsely, but concentrated in the first three planes.Plane 0 is also known as the “Basic Multilingual Plane”, or BMP. The BMP contains essentially all the characters needed for modern text in any script, including Latin, Cyrillic, Greek, Han (Chinese), Japanese, Korean, Arabic, Hebrew, Devanagari (Indian), and many more.(In the past, the codespace was just the BMP and no more—Unicode was originally conceived as a straightforward 16-bit encoding, with only 65,536 code points. It was expanded to its current size in 1996. However, the vast majority of code points in modern text belong to the BMP.)Plane 1 contains historical scripts, such as Sumerian cuneiform and Egyptian hieroglyphs, as well as emoji and various other symbols. Plane 2 contains a large block of less-common and historical Han characters. The remaining planes are empty, except for a small number of rarely-used formatting characters in Plane 14; planes 15–16 are reserved entirely for private use.ScriptsLet’s zoom in on the first three planes, since that’s where the action is:Map of scripts in Unicode planes 0–2 (click to zoom)This map color-codes the 135 different scripts in Unicode. You can see how Han () and Korean () take up most of the range of the BMP (the left large square). By contrast, all of the European, Middle Eastern, and South Asian scripts fit into the first row of the BMP in this diagram.Many areas of the codespace are adapted or copied from earlier encodings. For example, the first 128 code points of Unicode are just a copy of ASCII. This has clear benefits for compatibility—it’s easy to losslessly convert texts from smaller encodings into Unicode (and the other direction too, as long as no characters outside the smaller encoding are used).Usage FrequencyOne more interesting way to visualize the codespace is to look at the distribution of usage—in other words, how often each code point is actually used in real-world texts. Below is a heat map of planes 0–2 based on a large sample of text from Wikipedia and Twitter (all languages). Frequency increases from black (never seen) through red and yellow to white.Heat map of code point usage frequency in Unicode planes 0–2 (click to zoom)You can see that the vast majority of this text sample lies in the BMP, with only scattered usage of code points from planes 1–2. The biggest exception is emoji, which show up here as the several bright squares in the bottom row of plane 1.EncodingsWe’ve seen that Unicode code points are abstractly identified by their index in the codespace, ranging from U+0000 to U+10FFFF. But how do code points get represented as bytes, in memory or in a file?The most convenient, computer-friendliest (and programmer-friendliest) thing to do would be to just store the code point index as a 32-bit integer. This works, but it consumes 4 bytes per code point, which is sort of a lot. Using 32-bit ints for Unicode will cost you a bunch of extra storage, memory, and performance in bandwidth-bound scenarios, if you work with a lot of text.Consequently, there are several more-compact encodings for Unicode. The 32-bit integer encoding is officially called UTF-32 (UTF = “Unicode Transformation Format”), but it’s rarely used for storage. At most, it comes up sometimes as a temporary internal representation, for examining or operating on the code points in a string.Much more commonly, you’ll see Unicode text encoded as either UTF-8 or UTF-16. These are both variable-length encodings, made up of 8-bit or 16-bit units, respectively. In these schemes, code points with smaller index values take up fewer bytes, which saves a lot of memory for typical texts. The trade-off is that processing UTF-8/16 texts is more programmatically involved, and likely slower.UTF-8In UTF-8, each code point is stored using 1 to 4 bytes, based on its index value.UTF-8 uses a system of binary prefixes, in which the high bits of each byte mark whether it’s a single byte, the beginning of a multi-byte sequence, or a continuation byte; the remaining bits, concatenated, give the code point index. This table shows how it works:UTF-8 (binary)\tCode point (binary)\tRange0xxxxxxx\txxxxxxx\tU+0000–U+007F110xxxxx 10yyyyyy\txxxxxyyyyyy\tU+0080–U+07FF1110xxxx 10yyyyyy 10zzzzzz\txxxxyyyyyyzzzzzz\tU+0800–U+FFFF11110xxx 10yyyyyy 10zzzzzz 10wwwwww\txxxyyyyyyzzzzzzwwwwww\tU+10000–U+10FFFFA handy property of UTF-8 is that code points below 128 (ASCII characters) are encoded as single bytes, and all non-ASCII code points are encoded using sequences of bytes 128–255. This has a couple of nice consequences. First, any strings or files out there that are already in ASCII can also be interpreted as UTF-8 without any conversion. Second, lots of widely-used string programming idioms—such as null termination, or delimiters (newlines, tabs, commas, slashes, etc.)—will just work on UTF-8 strings. ASCII bytes never occur inside the encoding of non-ASCII code points, so searching byte-wise for a null terminator or a delimiter will do the right thing.Thanks to this convenience, it’s relatively simple to extend legacy ASCII programs and APIs to handle UTF-8 strings. UTF-8 is very widely used in the Unix/Linux and Web worlds, and many programmers argue UTF-8 should be the default encoding everywhere.However, UTF-8 isn’t a drop-in replacement for ASCII strings in all respects. For instance, code that iterates over the “characters” in a string will need to decode UTF-8 and iterate over code points (or maybe grapheme clusters—more about those later), not bytes. When you measure the “length” of a string, you’ll need to think about whether you want the length in bytes, the length in code points, the width of the text when rendered, or something else.UTF-16The other encoding that you’re likely to encounter is UTF-16. It uses 16-bit words, with each code point stored as either 1 or 2 words.Like UTF-8, we can express the UTF-16 encoding rules in the form of binary prefixes:UTF-16 (binary)\tCode point (binary)\tRangexxxxxxxxxxxxxxxx\txxxxxxxxxxxxxxxx\tU+0000–U+FFFF110110xxxxxxxxxx 110111yyyyyyyyyy\txxxxxxxxxxyyyyyyyyyy + 0x10000\tU+10000–U+10FFFFA more common way that people talk about UTF-16 encoding, though, is in terms of code points called “surrogates”. All the code points in the range U+D800–U+DFFF—or in other words, the code points that match the binary prefixes 110110 and 110111 in the table above—are reserved specifically for UTF-16 encoding, and don’t represent any valid characters on their own. They’re only meant to occur in the 2-word encoding pattern above, which is called a “surrogate pair”. Surrogate code points are illegal in any other context! They’re not allowed in UTF-8 or UTF-32 at all.Historically, UTF-16 is a descendant of the original, pre-1996 versions of Unicode, in which there were only 65,536 code points. The original intention was that there would be no different “encodings”; Unicode was supposed to be a straightforward 16-bit character set. Later, the codespace was expanded to make room for a long tail of less-common (but still important) Han characters, which the Unicode designers didn’t originally plan for. Surrogates were then introduced, as—to put it bluntly—a kludge, allowing 16-bit encodings to access the new code points.Today, Javascript uses UTF-16 as its standard string representation: if you ask for the length of a string, or iterate over it, etc., the result will be in UTF-16 words, with any code points outside the BMP expressed as surrogate pairs. UTF-16 is also used by the Microsoft Win32 APIs; though Win32 supports either 8-bit or 16-bit strings, the 8-bit version unaccountably still doesn’t support UTF-8—only legacy code-page encodings, like ANSI. This leaves UTF-16 as the only way to get proper Unicode support in Windows. (Update: in Win10 version 1903, they finally added UTF-8 support to the 8-bit APIs! 😊)By the way, UTF-16’s words can be stored either little-endian or big-endian. Unicode has no opinion on that issue, though it does encourage the convention of putting U+FEFF zero width no-break space at the top of a UTF-16 file as a byte-order mark, to disambiguate the endianness. (If the file doesn’t match the system’s endianness, the BOM will be decoded as U+FFFE, which isn’t a valid code point.)Combining MarksIn the story so far, we’ve been focusing on code points. But in Unicode, a “character” can be more complicated than just an individual code point!Unicode includes a system for dynamically composing characters, by combining multiple code points together. This is used in various ways to gain flexibility without causing a huge combinatorial explosion in the number of code points.In European languages, for example, this shows up in the application of diacritics to letters. Unicode supports a wide range of diacritics, including acute and grave accents, umlauts, cedillas, and many more. All these diacritics can be applied to any letter of any alphabet—and in fact, multiple diacritics can be used on a single letter.If Unicode tried to assign a distinct code point to every possible combination of letter and diacritics, things would rapidly get out of hand. Instead, the dynamic composition system enables you to construct the character you want, by starting with a base code point (the letter) and appending additional code points, called “combining marks”, to specify the diacritics. When a text renderer sees a sequence like this in a string, it automatically stacks the diacritics over or under the base letter to create a composed character.For example, the accented character “Á” can be expressed as a string of two code points: U+0041 “A” latin capital letter a plus U+0301 “◌́” combining acute accent. This string automatically gets rendered as a single character: “Á”.Now, Unicode does also include many “precomposed” code points, each representing a letter with some combination of diacritics already applied, such as U+00C1 “Á” latin capital letter a with acute or U+1EC7 “ệ” latin small letter e with circumflex and dot below. I suspect these are mostly inherited from older encodings that were assimilated into Unicode, and kept around for compatibility. In practice, there are precomposed code points for most of the common letter-with-diacritic combinations in European-script languages, so they don’t use dynamic composition that much in typical text.Still, the system of combining marks does allow for an arbitrary number of diacritics to be stacked on any base character. The reductio-ad-absurdum of this is Zalgo text, which works by ͖͟ͅr͞aṋ̫̠̖͈̗d͖̻̹óm̪͙͕̗̝ļ͇̰͓̳̫ý͓̥̟͍ ̕s̫t̫̱͕̗̰̼̘͜a̼̩͖͇̠͈̣͝c̙͍k̖̱̹͍͘i̢n̨̺̝͇͇̟͙ģ̫̮͎̻̟ͅ ̕n̼̺͈͞u̮͙m̺̭̟̗͞e̞͓̰̤͓̫r̵o̖ṷs҉̪͍̭̬̝̤ ̮͉̝̞̗̟͠d̴̟̜̱͕͚i͇̫̼̯̭̜͡ḁ͙̻̼c̲̲̹r̨̠̹̣̰̦i̱t̤̻̤͍͙̘̕i̵̜̭̤̱͎c̵s ͘o̱̲͈̙͖͇̲͢n͘ ̜͈e̬̲̠̩ac͕̺̠͉h̷̪ ̺̣͖̱ḻ̫̬̝̹ḙ̙̺͙̭͓̲t̞̞͇̲͉͍t̷͔̪͉̲̻̠͙e̦̻͈͉͇r͇̭̭̬͖,̖́ ̜͙͓̣̭s̘̘͈o̱̰̤̲ͅ ̛̬̜̙t̼̦͕̱̹͕̥h̳̲͈͝ͅa̦t̻̲ ̻̟̭̦̖t̛̰̩h̠͕̳̝̫͕e͈̤̘͖̞͘y҉̝͙ ̷͉͔̰̠o̞̰v͈͈̳̘͜er̶f̰͈͔ḻ͕̘̫̺̲o̲̭͙͠ͅw̱̳̺ ͜t̸h͇̭͕̳͍e̖̯̟̠ ͍̞̜͔̩̪͜ļ͎̪̲͚i̝̲̹̙̩̹n̨̦̩̖ḙ̼̲̼͢ͅ ̬͝s̼͚̘̞͝p͙̘̻a̙c҉͉̜̤͈̯̖i̥͡n̦̠̱͟g̸̗̻̦̭̮̟ͅ ̳̪̠͖̳̯̕a̫͜n͝d͡ ̣̦̙ͅc̪̗r̴͙̮̦̹̳e͇͚̞͔̹̫͟a̙̺̙ț͔͎̘̹ͅe̥̩͍ a͖̪̜̮͙̹n̢͉̝ ͇͉͓̦̼́a̳͖̪̤̱p̖͔͔̟͇͎͠p̱͍̺ę̲͎͈̰̲̤̫a̯͜r̨̮̫̣̘a̩̯͖n̹̦̰͎̣̞̞c̨̦̱͔͎͍͖e̬͓͘ ̤̰̩͙̤̬͙o̵̼̻̬̻͇̮̪f̴ ̡̙̭͓͖̪̤“̸͙̠̼c̳̗͜o͏̼͙͔̮r̞̫̺̞̥̬ru̺̻̯͉̭̻̯p̰̥͓̣̫̙̤͢t̳͍̳̖ͅi̶͈̝͙̼̙̹o̡͔n̙̺̹̖̩͝ͅ”̨̗͖͚̩.̯͓A few other places where dynamic character composition shows up in Unicode:Vowel-pointing notation in Arabic and Hebrew. In these languages, words are normally spelled with some of their vowels left out. They then have diacritic notation to indicate the vowels (used in dictionaries, language-teaching materials, children’s books, and such). These diacritics are expressed with combining marks.A Hebrew example, with niqqud:\tאֶת דַלְתִּי הֵזִיז הֵנִיעַ, קֶטֶב לִשְׁכַּתִּי יָשׁוֹדNormal writing (no niqqud):\tאת דלתי הזיז הניע, קטב לשכתי ישודDevanagari, the script used to write Hindi, Sanskrit, and many other South Asian languages, expresses certain vowels as combining marks attached to consonant letters. For example, “ह” + “​ि” = “हि” (“h” + “i” = “hi”).Korean characters stand for syllables, but they are composed of letters called jamo that stand for the vowels and consonants in the syllable. While there are code points for precomposed Korean syllables, it’s also possible to dynamically compose them by concatenating their jamo. For example, “ᄒ” + “ᅡ” + “ᆫ” = “한” (“h” + “a” + “n” = “han”).Canonical EquivalenceIn Unicode, precomposed characters exist alongside the dynamic composition system. A consequence of this is that there are multiple ways to express “the same” string—different sequences of code points that result in the same user-perceived characters. For example, as we saw earlier, we can express the character “Á” either as the single code point U+00C1, or as the string of two code points U+0041 U+0301.Another source of ambiguity is the ordering of multiple diacritics in a single character. Diacritic order matters visually when two diacritics apply to the same side of the base character, e.g. both above: “ǡ” (dot, then macron) is different from “ā̇” (macron, then dot). However, when diacritics apply to different sides of the character, e.g. one above and one below, then the order doesn’t affect rendering. Moreover, a character with multiple diacritics might have one of the diacritics precomposed and others expressed as combining marks.For example, the Vietnamese letter “ệ” can be expressed in five different ways:Fully precomposed: U+1EC7 “ệ”Partially precomposed: U+1EB9 “ẹ” + U+0302 “◌̂”Partially precomposed: U+00EA “ê” + U+0323 “◌̣”Fully decomposed: U+0065 “e” + U+0323 “◌̣” + U+0302 “◌̂”Fully decomposed: U+0065 “e” + U+0302 “◌̂” + U+0323 “◌̣”Unicode refers to set of strings like this as “canonically equivalent”. Canonically equivalent strings are supposed to be treated as identical for purposes of searching, sorting, rendering, text selection, and so on. This has implications for how you implement operations on text. For example, if an app has a “find in file” operation and the user searches for “ệ”, it should, by default, find occurrences of any of the five versions of “ệ” above!Normalization FormsTo address the problem of “how to handle canonically equivalent strings”, Unicode defines several normalization forms: ways of converting strings into a canonical form so that they can be compared code-point-by-code-point (or byte-by-byte).The “NFD” normalization form fully decomposes every character down to its component base and combining marks, taking apart any precomposed code points in the string. It also sorts the combining marks in each character according to their rendered position, so e.g. diacritics that go below the character come before the ones that go above the character. (It doesn’t reorder diacritics in the same rendered position, since their order matters visually, as previously mentioned.)The “NFC” form, conversely, puts things back together into precomposed code points as much as possible. If an unusual combination of diacritics is called for, there may not be any precomposed code point for it, in which case NFC still precomposes what it can and leaves any remaining combining marks in place (again ordered by rendered position, as in NFD).There are also forms called NFKD and NFKC. The “K” here refers to compatibility decompositions, which cover characters that are “similar” in some sense but not visually identical. However, I’m not going to cover that here.Grapheme ClustersAs we’ve seen, Unicode contains various cases where a thing that a user thinks of as a single “character” might actually be made up of multiple code points under the hood. Unicode formalizes this using the notion of a grapheme cluster: a string of one or more code points that constitute a single “user-perceived character”.UAX #29 defines the rules for what, precisely, qualifies as a grapheme cluster. It’s approximately “a base code point followed by any number of combining marks”, but the actual definition is a bit more complicated; it accounts for things like Korean jamo, and emoji ZWJ sequences.The main thing grapheme clusters are used for is text editing: they’re often the most sensible unit for cursor placement and text selection boundaries. Using grapheme clusters for these purposes ensures that you can’t accidentally chop off some diacritics when you copy-and-paste text, that left/right arrow keys always move the cursor by one visible character, and so on.Another place where grapheme clusters are useful is in enforcing a string length limit—say, on a database field. While the true, underlying limit might be something like the byte length of the string in UTF-8, you wouldn’t want to enforce that by just truncating bytes. At a minimum, you’d want to “round down” to the nearest code point boundary; but even better, round down to the nearest grapheme cluster boundary. Otherwise, you might be corrupting the last character by cutting off a diacritic, or interrupting a jamo sequence or ZWJ sequence.And More…There’s much more that could be said about Unicode from a programmer’s perspective! I haven’t gotten into such fun topics as case mapping, collation, compatibility decompositions and confusables, Unicode-aware regexes, or bidirectional text. Nor have I said anything yet about implementation issues—how to efficiently store and look-up data about the sparsely-assigned code points, or how to optimize UTF-8 decoding, string comparison, or NFC normalization. Perhaps I’ll return to some of those things in future posts.Unicode is a fascinating and complex system. It has a many-to-one mapping between bytes and code points, and on top of that a many-to-one (or, under some circumstances, many-to-many) mapping between code points and “characters”. It has oddball special cases in every corner. But no one ever claimed that representing all written languages was going to be easy, and it’s clear that we’re never going back to the bad old days of a patchwork of incompatible encodings.Further reading:The Unicode StandardUTF-8 Everywhere ManifestoDark corners of Unicode by EeveeICU (International Components for Unicode)—C/C++/Java libraries implementing many Unicode algorithms and related thingsPython 3 Unicode HowtoGoogle Noto Fonts—set of fonts intended to cover all assigned code pointsThe Many Meanings of “Shader”\"\n",
        "\n",
        "utf8 = list(map(int, text.encode(\"utf-8\")))"
      ],
      "metadata": {
        "id": "WLWHLZgChG2O"
      },
      "execution_count": 10,
      "outputs": []
    },
    {
      "cell_type": "code",
      "source": [
        "from os import replace\n",
        "# Hyper Parameter\n",
        "vocab_size = 276\n",
        "# This makes the numebr of replacements to be 20\n",
        "num_replacement = vocab_size - 256\n",
        "# copy the original to list\n",
        "copy = list(utf8)\n",
        "\n",
        "replacements = {} # recording each of the replacements (int, int) -> int\n",
        "\n",
        "for i in range(num_replacement):\n",
        "  common = find_most_common(copy)\n",
        "  pair = max(common, key=common.get)\n",
        "  replacement_char = 256 + i\n",
        "  copy = replace_key(copy, pair, replacement_char)\n",
        "  replacements[pair] = replacement_char"
      ],
      "metadata": {
        "id": "QQRPQEWblKos"
      },
      "execution_count": 11,
      "outputs": []
    },
    {
      "cell_type": "code",
      "source": [
        "# what is the compression ratio?\n",
        "len(utf8) / len(copy)"
      ],
      "metadata": {
        "colab": {
          "base_uri": "https://localhost:8080/"
        },
        "id": "hdulkyTHSyr6",
        "outputId": "166d5188-8706-4012-cc0e-136888c5e499"
      },
      "execution_count": 12,
      "outputs": [
        {
          "output_type": "execute_result",
          "data": {
            "text/plain": [
              "1.2656832298136647"
            ]
          },
          "metadata": {},
          "execution_count": 12
        }
      ]
    },
    {
      "cell_type": "markdown",
      "source": [
        "Note that the tokenizer is a seperate object than the llm, and it has a potentially different training set, and the llm training is after this since llm only needs to read token sequences"
      ],
      "metadata": {
        "id": "HqAOwGoWTadn"
      }
    },
    {
      "cell_type": "markdown",
      "source": [
        "Roughly speaking, the more training set a certain language takes up in tokenization period will lead to it being performed better"
      ],
      "metadata": {
        "id": "RwHa0OSpUhS_"
      }
    },
    {
      "cell_type": "markdown",
      "source": [
        "### Decoding\n",
        "Token sequence to raw text"
      ],
      "metadata": {
        "id": "da7TrqaUUwoK"
      }
    },
    {
      "cell_type": "code",
      "source": [
        "vocab = {char: bytes([char]) for char in range(0, 256)}\n",
        "for (p0,p1), replaced in replacements.items():\n",
        "  vocab[replaced] = vocab[p0] + vocab[p1]\n",
        "  # bytes objects, so basically just concatenates\n",
        "\n",
        "def decode_try(intList):\n",
        "  tokens = b\"\".join(vocab[char] for char in intList)\n",
        "  text = tokens.decode(\"utf-8\")\n",
        "  return text\n",
        "# However, this may not work since the utf sometimes may need two bytes to represent an int\n",
        "\n",
        "def decode(intList):\n",
        "  tokens = b\"\".join(vocab[char] for char in intList)\n",
        "  text = tokens.decode(\"utf-8\", errors=\"replace\")\n",
        "  return text\n",
        "\n",
        "decode([128])"
      ],
      "metadata": {
        "colab": {
          "base_uri": "https://localhost:8080/",
          "height": 35
        },
        "id": "kAL6SQCwTAiZ",
        "outputId": "7dc50708-9e41-45c2-a318-95cb1b7c86f7"
      },
      "execution_count": 13,
      "outputs": [
        {
          "output_type": "execute_result",
          "data": {
            "text/plain": [
              "'�'"
            ],
            "application/vnd.google.colaboratory.intrinsic+json": {
              "type": "string"
            }
          },
          "metadata": {},
          "execution_count": 13
        }
      ]
    },
    {
      "cell_type": "markdown",
      "source": [
        "### Encoding\n",
        "Raw text to token sequence"
      ],
      "metadata": {
        "id": "607bdaTfZ3zw"
      }
    },
    {
      "cell_type": "code",
      "source": [
        "def encode(text):\n",
        "  # given a string, return list of integers (the tokens)\n",
        "  tokens = list(text.encode(\"utf-8\"))\n",
        "  while len(tokens) >= 2:\n",
        "    common = find_most_common(tokens)\n",
        "    pair = min(common, key=lambda p: replacements.get(p, float(\"inf\")))\n",
        "    if pair not in replacements:\n",
        "      break # nothing else can be merged\n",
        "    replacement_char = replacements[pair]\n",
        "    tokens = replace_key(tokens, pair, replacement_char)\n",
        "  return tokens\n",
        "\n",
        "print(encode(\"hello where are you\"))"
      ],
      "metadata": {
        "id": "on5EEkqdZ3IW",
        "outputId": "b67310d3-049e-4ed3-c2fa-71c77d11bbee",
        "colab": {
          "base_uri": "https://localhost:8080/"
        }
      },
      "execution_count": 14,
      "outputs": [
        {
          "output_type": "stream",
          "name": "stdout",
          "text": [
            "[104, 101, 108, 108, 111, 32, 119, 104, 260, 256, 268, 256, 121, 111, 117]\n"
          ]
        }
      ]
    },
    {
      "cell_type": "markdown",
      "source": [
        "### Forced splits using regex patterns (GPT series)"
      ],
      "metadata": {
        "id": "drxEY2k6ig5t"
      }
    },
    {
      "cell_type": "code",
      "source": [
        "import regex as re\n",
        "gpt2pat = re.compile(r\"\"\"'s|'t|'re|'ve|'m|'ll|'d| ?\\p{L}+| ?\\p{N}+| ?[^\\s\\p{L}\\p{N}]+|\\s+(?!\\S)|\\s+\"\"\")\n",
        "\n",
        "print(re.findall(gpt2pat, \"Hello've world123 how's are you!!!?\")) # find all the occurrences and split them\n",
        "\n",
        "# Each token is individually handled and the tokenized result is concatenated"
      ],
      "metadata": {
        "id": "Ojs6_m_Aio40",
        "outputId": "83d5640e-ec19-432b-c6ec-65a626fe0464",
        "colab": {
          "base_uri": "https://localhost:8080/"
        }
      },
      "execution_count": 15,
      "outputs": [
        {
          "output_type": "stream",
          "name": "stdout",
          "text": [
            "['Hello', \"'ve\", ' world', '123', ' how', \"'s\", ' are', ' you', '!!!?']\n"
          ]
        }
      ]
    },
    {
      "cell_type": "markdown",
      "source": [
        "Tiktoken is the OpenAI tokenizer"
      ],
      "metadata": {
        "id": "bflQX65mlcZ9"
      }
    },
    {
      "cell_type": "code",
      "source": [
        "pip install tiktoken"
      ],
      "metadata": {
        "id": "6w5u16m5lhOE",
        "outputId": "d5bba908-3a69-47a5-be30-f8c11e5d9ce5",
        "colab": {
          "base_uri": "https://localhost:8080/"
        }
      },
      "execution_count": 16,
      "outputs": [
        {
          "output_type": "stream",
          "name": "stdout",
          "text": [
            "Collecting tiktoken\n",
            "  Downloading tiktoken-0.6.0-cp310-cp310-manylinux_2_17_x86_64.manylinux2014_x86_64.whl (1.8 MB)\n",
            "\u001b[2K     \u001b[90m━━━━━━━━━━━━━━━━━━━━━━━━━━━━━━━━━━━━━━━━\u001b[0m \u001b[32m1.8/1.8 MB\u001b[0m \u001b[31m9.3 MB/s\u001b[0m eta \u001b[36m0:00:00\u001b[0m\n",
            "\u001b[?25hRequirement already satisfied: regex>=2022.1.18 in /usr/local/lib/python3.10/dist-packages (from tiktoken) (2023.12.25)\n",
            "Requirement already satisfied: requests>=2.26.0 in /usr/local/lib/python3.10/dist-packages (from tiktoken) (2.31.0)\n",
            "Requirement already satisfied: charset-normalizer<4,>=2 in /usr/local/lib/python3.10/dist-packages (from requests>=2.26.0->tiktoken) (3.3.2)\n",
            "Requirement already satisfied: idna<4,>=2.5 in /usr/local/lib/python3.10/dist-packages (from requests>=2.26.0->tiktoken) (3.7)\n",
            "Requirement already satisfied: urllib3<3,>=1.21.1 in /usr/local/lib/python3.10/dist-packages (from requests>=2.26.0->tiktoken) (2.0.7)\n",
            "Requirement already satisfied: certifi>=2017.4.17 in /usr/local/lib/python3.10/dist-packages (from requests>=2.26.0->tiktoken) (2024.2.2)\n",
            "Installing collected packages: tiktoken\n",
            "Successfully installed tiktoken-0.6.0\n"
          ]
        }
      ]
    },
    {
      "cell_type": "code",
      "source": [
        "import tiktoken\n",
        "\n",
        "# GPT-2 (does not merge spaces)\n",
        "enc = tiktoken.get_encoding(\"gpt2\")\n",
        "print(enc.encode(\"    hello world!!!\"))\n",
        "\n",
        "# GPT-4 (merges spaces)\n",
        "enc = tiktoken.get_encoding(\"cl100k_base\")\n",
        "print(enc.encode(\"    hello world!!!\"))"
      ],
      "metadata": {
        "id": "U7Yct6QqlX5z",
        "outputId": "9dec86b6-1d82-4130-e431-8e6200781680",
        "colab": {
          "base_uri": "https://localhost:8080/"
        }
      },
      "execution_count": 17,
      "outputs": [
        {
          "output_type": "stream",
          "name": "stdout",
          "text": [
            "[220, 220, 220, 23748, 995, 10185]\n",
            "[262, 24748, 1917, 12340]\n"
          ]
        }
      ]
    },
    {
      "cell_type": "markdown",
      "source": [
        "Check out the GPT 2 Encoder"
      ],
      "metadata": {
        "id": "OucWxezpm6Gm"
      }
    },
    {
      "cell_type": "code",
      "source": [
        "!wget https://openaipublic.blob.core.windows.net/gpt-2/models/1558M/vocab.bpe\n",
        "!wget https://openaipublic.blob.core.windows.net/gpt-2/models/1558M/encoder.json"
      ],
      "metadata": {
        "id": "RAhkYyOOnht0",
        "outputId": "691313ab-85da-482e-fd3e-ac0040bd2d64",
        "colab": {
          "base_uri": "https://localhost:8080/"
        }
      },
      "execution_count": 18,
      "outputs": [
        {
          "output_type": "stream",
          "name": "stdout",
          "text": [
            "--2024-05-08 16:52:00--  https://openaipublic.blob.core.windows.net/gpt-2/models/1558M/vocab.bpe\n",
            "Resolving openaipublic.blob.core.windows.net (openaipublic.blob.core.windows.net)... 20.60.179.33\n",
            "Connecting to openaipublic.blob.core.windows.net (openaipublic.blob.core.windows.net)|20.60.179.33|:443... connected.\n",
            "HTTP request sent, awaiting response... 200 OK\n",
            "Length: 456318 (446K) [application/octet-stream]\n",
            "Saving to: ‘vocab.bpe’\n",
            "\n",
            "vocab.bpe           100%[===================>] 445.62K   408KB/s    in 1.1s    \n",
            "\n",
            "2024-05-08 16:52:02 (408 KB/s) - ‘vocab.bpe’ saved [456318/456318]\n",
            "\n",
            "--2024-05-08 16:52:02--  https://openaipublic.blob.core.windows.net/gpt-2/models/1558M/encoder.json\n",
            "Resolving openaipublic.blob.core.windows.net (openaipublic.blob.core.windows.net)... 20.60.179.33\n",
            "Connecting to openaipublic.blob.core.windows.net (openaipublic.blob.core.windows.net)|20.60.179.33|:443... connected.\n",
            "HTTP request sent, awaiting response... 200 OK\n",
            "Length: 1042301 (1018K) [application/json]\n",
            "Saving to: ‘encoder.json’\n",
            "\n",
            "encoder.json        100%[===================>]   1018K   617KB/s    in 1.6s    \n",
            "\n",
            "2024-05-08 16:52:05 (617 KB/s) - ‘encoder.json’ saved [1042301/1042301]\n",
            "\n"
          ]
        }
      ]
    },
    {
      "cell_type": "code",
      "source": [
        "import os, json\n",
        "\n",
        "with open('encoder.json', 'r') as f:\n",
        "    encoder = json.load(f) # <--- ~equivalent to our \"vocab\" in decoding\n",
        "\n",
        "with open('vocab.bpe', 'r', encoding=\"utf-8\") as f:\n",
        "    bpe_data = f.read()\n",
        "bpe_merges = [tuple(merge_str.split()) for merge_str in bpe_data.split('\\n')[1:-1]]\n",
        "# ^---- ~equivalent to our \"replacements\""
      ],
      "metadata": {
        "id": "2C6h0te0m2qR"
      },
      "execution_count": 19,
      "outputs": []
    },
    {
      "cell_type": "markdown",
      "source": [
        "The **replacements**, which is the dictionary of the replacements and the **vocab**, which is the byte encode concatenation of the text, and these can define an encoder"
      ],
      "metadata": {
        "id": "8Y9WDUOboFYR"
      }
    },
    {
      "cell_type": "markdown",
      "source": [
        "#### Special tokens"
      ],
      "metadata": {
        "id": "70Izk974p6HR"
      }
    },
    {
      "cell_type": "code",
      "source": [
        "len(encoder) # 256 raw byte tokens. 50,000 merges. +1 special token"
      ],
      "metadata": {
        "id": "6OVWRpDBp9DA",
        "outputId": "ce22f241-1246-4e9e-fdec-bf0fdab29f2e",
        "colab": {
          "base_uri": "https://localhost:8080/"
        }
      },
      "execution_count": 20,
      "outputs": [
        {
          "output_type": "execute_result",
          "data": {
            "text/plain": [
              "50257"
            ]
          },
          "metadata": {},
          "execution_count": 20
        }
      ]
    },
    {
      "cell_type": "code",
      "source": [
        "encoder['<|endoftext|>'] # the only special token in use for the GPT-2 base model"
      ],
      "metadata": {
        "id": "ir9Y0acLqEFe",
        "outputId": "0c8a2ab7-9582-4228-e2e3-a2f4e4fb9f09",
        "colab": {
          "base_uri": "https://localhost:8080/"
        }
      },
      "execution_count": 21,
      "outputs": [
        {
          "output_type": "execute_result",
          "data": {
            "text/plain": [
              "50256"
            ]
          },
          "metadata": {},
          "execution_count": 21
        }
      ]
    },
    {
      "cell_type": "markdown",
      "source": [
        "The special token in tiktoken does not go through the **BPE Algorithm**, instead, it has special instructions on them"
      ],
      "metadata": {
        "id": "09irUVzgsMMF"
      }
    },
    {
      "cell_type": "markdown",
      "source": [
        "These are very important for the fine tuning model, for example <|im_start|>, <|im_end|>"
      ],
      "metadata": {
        "id": "JRKN_Qbluu73"
      }
    },
    {
      "cell_type": "markdown",
      "source": [
        "See GPT4's special tokens \"FIM\" in this [\"fill in moddle\" paper](https://arxiv.org/abs/2207.14255)"
      ],
      "metadata": {
        "id": "-_nPgefcvgM8"
      }
    },
    {
      "cell_type": "markdown",
      "source": [
        "### sentencepiece\n",
        "a commonly used library because it can both train and inference BPE tokenizers, used by llama and mistral series"
      ],
      "metadata": {
        "id": "n2NlwXI-DPWR"
      }
    },
    {
      "cell_type": "markdown",
      "source": [
        "Difference between **sentencepiece** and **tiktoken** is their order of the operations are different:\n",
        "- Tiktoken we take the code points in the string and encode them in UTF-8 to bytes and then merge bytes\n",
        "- Sentencepiece: works directly on the code points themselves, which means to merge the code points in the training set and then BPEs the code points and optionally falls back to utf-8 bytes for rare code points (rarity is determined by `character_coverage` hyperparameter), which then get translated to byte tokens."
      ],
      "metadata": {
        "id": "Mm9bzLHfEtWG"
      }
    },
    {
      "cell_type": "code",
      "source": [
        "import sentencepiece as spm\n",
        "\n",
        "# write a toy.txt file with some random text\n",
        "with open(\"toy.txt\", \"w\", encoding=\"utf-8\") as f:\n",
        "  f.write(\"SentencePiece is an unsupervised text tokenizer and detokenizer mainly for Neural Network-based text generation systems where the vocabulary size is predetermined prior to the neural model training. SentencePiece implements subword units (e.g., byte-pair-encoding (BPE) [Sennrich et al.]) and unigram language model [Kudo.]) with the extension of direct training from raw sentences. SentencePiece allows us to make a purely end-to-end system that does not depend on language-specific pre/postprocessing.\")"
      ],
      "metadata": {
        "id": "RgBTVfcuqHDO"
      },
      "execution_count": 23,
      "outputs": []
    },
    {
      "cell_type": "markdown",
      "source": [
        "#### Llama2 tokenizer using sentencepiece"
      ],
      "metadata": {
        "id": "sn6DqYVgJHfv"
      }
    },
    {
      "cell_type": "code",
      "source": [
        "import os\n",
        "\n",
        "options = dict(\n",
        "  # input: raw text\n",
        "  input=\"toy.txt\",\n",
        "  input_format=\"text\",\n",
        "  # output file name prefix\n",
        "  model_prefix=\"tok400\",\n",
        "  # algorithm spec\n",
        "  # BPE alg\n",
        "  model_type=\"bpe\",\n",
        "  vocab_size=400,\n",
        "  # normalization and preprocessing\n",
        "  normalization_rule_name=\"identity\", # turn off normalization for most llm cases, keep the data as raw form\n",
        "  remove_extra_whitespaces=False,\n",
        "  input_sentence_size=200000000, # max number of training sentences\n",
        "  max_sentence_length=4192, # max number of bytes per sentence\n",
        "  seed_sentencepiece_size=1000000,\n",
        "  shuffle_input_sentence=True,\n",
        "  # rare word treatment\n",
        "  character_coverage=0.99995,\n",
        "  byte_fallback=True,\n",
        "  # merge rules\n",
        "  split_digits=True,\n",
        "  split_by_unicode_script=True,\n",
        "  split_by_whitespace=True,\n",
        "  split_by_number=True,\n",
        "  max_sentencepiece_length=16,\n",
        "  add_dummy_prefix=True,\n",
        "  allow_whitespace_only_pieces=True,\n",
        "  # special tokens\n",
        "  unk_id=0, # the UNK token MUST exist\n",
        "  bos_id=1, # the others are optional, set to -1 to turn off\n",
        "  eos_id=2,\n",
        "  pad_id=-1,\n",
        "  # systems\n",
        "  num_threads=os.cpu_count(), # use ~all system resources\n",
        ")\n",
        "\n",
        "spm.SentencePieceTrainer.train(**options)"
      ],
      "metadata": {
        "id": "-lcF487oJkZR"
      },
      "execution_count": 24,
      "outputs": []
    },
    {
      "cell_type": "code",
      "source": [
        "sp = spm.SentencePieceProcessor()\n",
        "sp.load('tok400.model')\n",
        "vocab = [[sp.id_to_piece(idx), idx] for idx in range(sp.get_piece_size())]\n",
        "vocab"
      ],
      "metadata": {
        "id": "fGgW4qcTqdmk",
        "outputId": "0d32b7f9-2691-4f60-cd11-66ef7cd9125e",
        "colab": {
          "base_uri": "https://localhost:8080/"
        }
      },
      "execution_count": 25,
      "outputs": [
        {
          "output_type": "execute_result",
          "data": {
            "text/plain": [
              "[['<unk>', 0],\n",
              " ['<s>', 1],\n",
              " ['</s>', 2],\n",
              " ['<0x00>', 3],\n",
              " ['<0x01>', 4],\n",
              " ['<0x02>', 5],\n",
              " ['<0x03>', 6],\n",
              " ['<0x04>', 7],\n",
              " ['<0x05>', 8],\n",
              " ['<0x06>', 9],\n",
              " ['<0x07>', 10],\n",
              " ['<0x08>', 11],\n",
              " ['<0x09>', 12],\n",
              " ['<0x0A>', 13],\n",
              " ['<0x0B>', 14],\n",
              " ['<0x0C>', 15],\n",
              " ['<0x0D>', 16],\n",
              " ['<0x0E>', 17],\n",
              " ['<0x0F>', 18],\n",
              " ['<0x10>', 19],\n",
              " ['<0x11>', 20],\n",
              " ['<0x12>', 21],\n",
              " ['<0x13>', 22],\n",
              " ['<0x14>', 23],\n",
              " ['<0x15>', 24],\n",
              " ['<0x16>', 25],\n",
              " ['<0x17>', 26],\n",
              " ['<0x18>', 27],\n",
              " ['<0x19>', 28],\n",
              " ['<0x1A>', 29],\n",
              " ['<0x1B>', 30],\n",
              " ['<0x1C>', 31],\n",
              " ['<0x1D>', 32],\n",
              " ['<0x1E>', 33],\n",
              " ['<0x1F>', 34],\n",
              " ['<0x20>', 35],\n",
              " ['<0x21>', 36],\n",
              " ['<0x22>', 37],\n",
              " ['<0x23>', 38],\n",
              " ['<0x24>', 39],\n",
              " ['<0x25>', 40],\n",
              " ['<0x26>', 41],\n",
              " ['<0x27>', 42],\n",
              " ['<0x28>', 43],\n",
              " ['<0x29>', 44],\n",
              " ['<0x2A>', 45],\n",
              " ['<0x2B>', 46],\n",
              " ['<0x2C>', 47],\n",
              " ['<0x2D>', 48],\n",
              " ['<0x2E>', 49],\n",
              " ['<0x2F>', 50],\n",
              " ['<0x30>', 51],\n",
              " ['<0x31>', 52],\n",
              " ['<0x32>', 53],\n",
              " ['<0x33>', 54],\n",
              " ['<0x34>', 55],\n",
              " ['<0x35>', 56],\n",
              " ['<0x36>', 57],\n",
              " ['<0x37>', 58],\n",
              " ['<0x38>', 59],\n",
              " ['<0x39>', 60],\n",
              " ['<0x3A>', 61],\n",
              " ['<0x3B>', 62],\n",
              " ['<0x3C>', 63],\n",
              " ['<0x3D>', 64],\n",
              " ['<0x3E>', 65],\n",
              " ['<0x3F>', 66],\n",
              " ['<0x40>', 67],\n",
              " ['<0x41>', 68],\n",
              " ['<0x42>', 69],\n",
              " ['<0x43>', 70],\n",
              " ['<0x44>', 71],\n",
              " ['<0x45>', 72],\n",
              " ['<0x46>', 73],\n",
              " ['<0x47>', 74],\n",
              " ['<0x48>', 75],\n",
              " ['<0x49>', 76],\n",
              " ['<0x4A>', 77],\n",
              " ['<0x4B>', 78],\n",
              " ['<0x4C>', 79],\n",
              " ['<0x4D>', 80],\n",
              " ['<0x4E>', 81],\n",
              " ['<0x4F>', 82],\n",
              " ['<0x50>', 83],\n",
              " ['<0x51>', 84],\n",
              " ['<0x52>', 85],\n",
              " ['<0x53>', 86],\n",
              " ['<0x54>', 87],\n",
              " ['<0x55>', 88],\n",
              " ['<0x56>', 89],\n",
              " ['<0x57>', 90],\n",
              " ['<0x58>', 91],\n",
              " ['<0x59>', 92],\n",
              " ['<0x5A>', 93],\n",
              " ['<0x5B>', 94],\n",
              " ['<0x5C>', 95],\n",
              " ['<0x5D>', 96],\n",
              " ['<0x5E>', 97],\n",
              " ['<0x5F>', 98],\n",
              " ['<0x60>', 99],\n",
              " ['<0x61>', 100],\n",
              " ['<0x62>', 101],\n",
              " ['<0x63>', 102],\n",
              " ['<0x64>', 103],\n",
              " ['<0x65>', 104],\n",
              " ['<0x66>', 105],\n",
              " ['<0x67>', 106],\n",
              " ['<0x68>', 107],\n",
              " ['<0x69>', 108],\n",
              " ['<0x6A>', 109],\n",
              " ['<0x6B>', 110],\n",
              " ['<0x6C>', 111],\n",
              " ['<0x6D>', 112],\n",
              " ['<0x6E>', 113],\n",
              " ['<0x6F>', 114],\n",
              " ['<0x70>', 115],\n",
              " ['<0x71>', 116],\n",
              " ['<0x72>', 117],\n",
              " ['<0x73>', 118],\n",
              " ['<0x74>', 119],\n",
              " ['<0x75>', 120],\n",
              " ['<0x76>', 121],\n",
              " ['<0x77>', 122],\n",
              " ['<0x78>', 123],\n",
              " ['<0x79>', 124],\n",
              " ['<0x7A>', 125],\n",
              " ['<0x7B>', 126],\n",
              " ['<0x7C>', 127],\n",
              " ['<0x7D>', 128],\n",
              " ['<0x7E>', 129],\n",
              " ['<0x7F>', 130],\n",
              " ['<0x80>', 131],\n",
              " ['<0x81>', 132],\n",
              " ['<0x82>', 133],\n",
              " ['<0x83>', 134],\n",
              " ['<0x84>', 135],\n",
              " ['<0x85>', 136],\n",
              " ['<0x86>', 137],\n",
              " ['<0x87>', 138],\n",
              " ['<0x88>', 139],\n",
              " ['<0x89>', 140],\n",
              " ['<0x8A>', 141],\n",
              " ['<0x8B>', 142],\n",
              " ['<0x8C>', 143],\n",
              " ['<0x8D>', 144],\n",
              " ['<0x8E>', 145],\n",
              " ['<0x8F>', 146],\n",
              " ['<0x90>', 147],\n",
              " ['<0x91>', 148],\n",
              " ['<0x92>', 149],\n",
              " ['<0x93>', 150],\n",
              " ['<0x94>', 151],\n",
              " ['<0x95>', 152],\n",
              " ['<0x96>', 153],\n",
              " ['<0x97>', 154],\n",
              " ['<0x98>', 155],\n",
              " ['<0x99>', 156],\n",
              " ['<0x9A>', 157],\n",
              " ['<0x9B>', 158],\n",
              " ['<0x9C>', 159],\n",
              " ['<0x9D>', 160],\n",
              " ['<0x9E>', 161],\n",
              " ['<0x9F>', 162],\n",
              " ['<0xA0>', 163],\n",
              " ['<0xA1>', 164],\n",
              " ['<0xA2>', 165],\n",
              " ['<0xA3>', 166],\n",
              " ['<0xA4>', 167],\n",
              " ['<0xA5>', 168],\n",
              " ['<0xA6>', 169],\n",
              " ['<0xA7>', 170],\n",
              " ['<0xA8>', 171],\n",
              " ['<0xA9>', 172],\n",
              " ['<0xAA>', 173],\n",
              " ['<0xAB>', 174],\n",
              " ['<0xAC>', 175],\n",
              " ['<0xAD>', 176],\n",
              " ['<0xAE>', 177],\n",
              " ['<0xAF>', 178],\n",
              " ['<0xB0>', 179],\n",
              " ['<0xB1>', 180],\n",
              " ['<0xB2>', 181],\n",
              " ['<0xB3>', 182],\n",
              " ['<0xB4>', 183],\n",
              " ['<0xB5>', 184],\n",
              " ['<0xB6>', 185],\n",
              " ['<0xB7>', 186],\n",
              " ['<0xB8>', 187],\n",
              " ['<0xB9>', 188],\n",
              " ['<0xBA>', 189],\n",
              " ['<0xBB>', 190],\n",
              " ['<0xBC>', 191],\n",
              " ['<0xBD>', 192],\n",
              " ['<0xBE>', 193],\n",
              " ['<0xBF>', 194],\n",
              " ['<0xC0>', 195],\n",
              " ['<0xC1>', 196],\n",
              " ['<0xC2>', 197],\n",
              " ['<0xC3>', 198],\n",
              " ['<0xC4>', 199],\n",
              " ['<0xC5>', 200],\n",
              " ['<0xC6>', 201],\n",
              " ['<0xC7>', 202],\n",
              " ['<0xC8>', 203],\n",
              " ['<0xC9>', 204],\n",
              " ['<0xCA>', 205],\n",
              " ['<0xCB>', 206],\n",
              " ['<0xCC>', 207],\n",
              " ['<0xCD>', 208],\n",
              " ['<0xCE>', 209],\n",
              " ['<0xCF>', 210],\n",
              " ['<0xD0>', 211],\n",
              " ['<0xD1>', 212],\n",
              " ['<0xD2>', 213],\n",
              " ['<0xD3>', 214],\n",
              " ['<0xD4>', 215],\n",
              " ['<0xD5>', 216],\n",
              " ['<0xD6>', 217],\n",
              " ['<0xD7>', 218],\n",
              " ['<0xD8>', 219],\n",
              " ['<0xD9>', 220],\n",
              " ['<0xDA>', 221],\n",
              " ['<0xDB>', 222],\n",
              " ['<0xDC>', 223],\n",
              " ['<0xDD>', 224],\n",
              " ['<0xDE>', 225],\n",
              " ['<0xDF>', 226],\n",
              " ['<0xE0>', 227],\n",
              " ['<0xE1>', 228],\n",
              " ['<0xE2>', 229],\n",
              " ['<0xE3>', 230],\n",
              " ['<0xE4>', 231],\n",
              " ['<0xE5>', 232],\n",
              " ['<0xE6>', 233],\n",
              " ['<0xE7>', 234],\n",
              " ['<0xE8>', 235],\n",
              " ['<0xE9>', 236],\n",
              " ['<0xEA>', 237],\n",
              " ['<0xEB>', 238],\n",
              " ['<0xEC>', 239],\n",
              " ['<0xED>', 240],\n",
              " ['<0xEE>', 241],\n",
              " ['<0xEF>', 242],\n",
              " ['<0xF0>', 243],\n",
              " ['<0xF1>', 244],\n",
              " ['<0xF2>', 245],\n",
              " ['<0xF3>', 246],\n",
              " ['<0xF4>', 247],\n",
              " ['<0xF5>', 248],\n",
              " ['<0xF6>', 249],\n",
              " ['<0xF7>', 250],\n",
              " ['<0xF8>', 251],\n",
              " ['<0xF9>', 252],\n",
              " ['<0xFA>', 253],\n",
              " ['<0xFB>', 254],\n",
              " ['<0xFC>', 255],\n",
              " ['<0xFD>', 256],\n",
              " ['<0xFE>', 257],\n",
              " ['<0xFF>', 258],\n",
              " ['en', 259],\n",
              " ['▁t', 260],\n",
              " ['ce', 261],\n",
              " ['in', 262],\n",
              " ['ra', 263],\n",
              " ['▁a', 264],\n",
              " ['de', 265],\n",
              " ['er', 266],\n",
              " ['▁s', 267],\n",
              " ['ent', 268],\n",
              " ['or', 269],\n",
              " ['pr', 270],\n",
              " ['▁m', 271],\n",
              " ['▁u', 272],\n",
              " ['ing', 273],\n",
              " ['▁th', 274],\n",
              " ['ence', 275],\n",
              " ['entence', 276],\n",
              " ['Pi', 277],\n",
              " ['ed', 278],\n",
              " ['em', 279],\n",
              " ['ex', 280],\n",
              " ['is', 281],\n",
              " ['iz', 282],\n",
              " ['la', 283],\n",
              " ['on', 284],\n",
              " ['st', 285],\n",
              " ['▁S', 286],\n",
              " ['Pie', 287],\n",
              " ['end', 288],\n",
              " ['ext', 289],\n",
              " ['▁an', 290],\n",
              " ['▁pr', 291],\n",
              " ['▁to', 292],\n",
              " ['▁un', 293],\n",
              " ['▁the', 294],\n",
              " ['Piece', 295],\n",
              " ['▁Sentence', 296],\n",
              " ['▁SentencePiece', 297],\n",
              " ['.]', 298],\n",
              " ['Ne', 299],\n",
              " ['ag', 300],\n",
              " ['do', 301],\n",
              " ['ec', 302],\n",
              " ['gu', 303],\n",
              " ['ic', 304],\n",
              " ['ir', 305],\n",
              " ['it', 306],\n",
              " ['ly', 307],\n",
              " ['to', 308],\n",
              " ['▁(', 309],\n",
              " ['▁[', 310],\n",
              " ['▁f', 311],\n",
              " ['▁n', 312],\n",
              " ['▁w', 313],\n",
              " ['.])', 314],\n",
              " ['age', 315],\n",
              " ['del', 316],\n",
              " ['ion', 317],\n",
              " ['ken', 318],\n",
              " ['lan', 319],\n",
              " ['ral', 320],\n",
              " ['wor', 321],\n",
              " ['yst', 322],\n",
              " ['▁Ne', 323],\n",
              " ['▁al', 324],\n",
              " ['▁de', 325],\n",
              " ['▁is', 326],\n",
              " ['▁ma', 327],\n",
              " ['▁mo', 328],\n",
              " ['izer', 329],\n",
              " ['rain', 330],\n",
              " ['ural', 331],\n",
              " ['▁and', 332],\n",
              " ['▁lan', 333],\n",
              " ['▁pre', 334],\n",
              " ['guage', 335],\n",
              " ['ystem', 336],\n",
              " ['▁text', 337],\n",
              " ['▁model', 338],\n",
              " ['▁train', 339],\n",
              " ['kenizer', 340],\n",
              " ['▁system', 341],\n",
              " ['▁language', 342],\n",
              " ['▁training', 343],\n",
              " ['.,', 344],\n",
              " ['BP', 345],\n",
              " ['Ku', 346],\n",
              " ['ab', 347],\n",
              " ['as', 348],\n",
              " ['at', 349],\n",
              " ['by', 350],\n",
              " ['co', 351],\n",
              " ['es', 352],\n",
              " ['et', 353],\n",
              " ['if', 354],\n",
              " ['ig', 355],\n",
              " ['im', 356],\n",
              " ['ke', 357],\n",
              " ['lo', 358],\n",
              " ['nr', 359],\n",
              " ['oc', 360],\n",
              " ['e', 361],\n",
              " ['▁', 362],\n",
              " ['n', 363],\n",
              " ['t', 364],\n",
              " ['i', 365],\n",
              " ['r', 366],\n",
              " ['a', 367],\n",
              " ['o', 368],\n",
              " ['s', 369],\n",
              " ['d', 370],\n",
              " ['c', 371],\n",
              " ['l', 372],\n",
              " ['u', 373],\n",
              " ['g', 374],\n",
              " ['m', 375],\n",
              " ['p', 376],\n",
              " ['.', 377],\n",
              " ['h', 378],\n",
              " ['-', 379],\n",
              " ['w', 380],\n",
              " ['y', 381],\n",
              " ['P', 382],\n",
              " ['S', 383],\n",
              " ['b', 384],\n",
              " ['f', 385],\n",
              " ['k', 386],\n",
              " [')', 387],\n",
              " ['x', 388],\n",
              " ['z', 389],\n",
              " ['(', 390],\n",
              " ['N', 391],\n",
              " ['[', 392],\n",
              " [']', 393],\n",
              " ['v', 394],\n",
              " [',', 395],\n",
              " ['/', 396],\n",
              " ['B', 397],\n",
              " ['E', 398],\n",
              " ['K', 399]]"
            ]
          },
          "metadata": {},
          "execution_count": 25
        }
      ]
    },
    {
      "cell_type": "code",
      "source": [
        "ids = sp.encode(\"hello 你好么\")\n",
        "print(ids)"
      ],
      "metadata": {
        "id": "WgSKlmqKsJrm",
        "outputId": "38b7fde8-0d37-4c46-8a09-2606337d8d09",
        "colab": {
          "base_uri": "https://localhost:8080/"
        }
      },
      "execution_count": 26,
      "outputs": [
        {
          "output_type": "stream",
          "name": "stdout",
          "text": [
            "[362, 378, 361, 372, 358, 362, 231, 192, 163, 232, 168, 192, 231, 188, 139]\n"
          ]
        }
      ]
    },
    {
      "cell_type": "markdown",
      "source": [
        "These Chinese characters are not part of the training set, but because we have set `byte_fallback` to `True`, these characters fall back to bytes,"
      ],
      "metadata": {
        "id": "XZ0N3KXLs3QR"
      }
    },
    {
      "cell_type": "code",
      "source": [
        "print([sp.id_to_piece(idx) for idx in ids])"
      ],
      "metadata": {
        "id": "PsdPU_IdsXLF",
        "outputId": "e5c2794a-9b85-4881-b620-e9587f9230cf",
        "colab": {
          "base_uri": "https://localhost:8080/"
        }
      },
      "execution_count": 27,
      "outputs": [
        {
          "output_type": "stream",
          "name": "stdout",
          "text": [
            "['▁', 'h', 'e', 'l', 'lo', '▁', '<0xE4>', '<0xBD>', '<0xA0>', '<0xE5>', '<0xA5>', '<0xBD>', '<0xE4>', '<0xB9>', '<0x88>']\n"
          ]
        }
      ]
    },
    {
      "cell_type": "markdown",
      "source": [
        "Why do we have an extra space in the front? This is because we have set `add_dummy_prefix` to be `True`. We need this since in tiktokenizer words in the front of the sentence are different encoding then the same word inside the sentence, and the llm will need to learn that they are very similar in context."
      ],
      "metadata": {
        "id": "mDXuitYAuoIk"
      }
    },
    {
      "cell_type": "markdown",
      "source": [
        "What will happen if we set `byte_fallback` to `False`? Then, any unknown characters will be 0, since unk = 0. Then \"你好么\" will be 0, and decoded as unk"
      ],
      "metadata": {
        "id": "KSS6-ldvuIm3"
      }
    },
    {
      "cell_type": "markdown",
      "source": [
        "#### Vocab Size"
      ],
      "metadata": {
        "id": "nj1dVN_Lvqt2"
      }
    },
    {
      "cell_type": "markdown",
      "source": [
        "- Q: what should be vocab size?\n",
        "- Q: how can I increase vocab size?\n",
        "- A: let's see. Reminder: [gpt.py](https://github.com/karpathy/ng-video-lecture/blob/master/gpt.py) from before."
      ],
      "metadata": {
        "id": "oxIN8lsovv17"
      }
    },
    {
      "cell_type": "code",
      "source": [],
      "metadata": {
        "id": "kL1mPMhzuc-5"
      },
      "execution_count": null,
      "outputs": []
    }
  ]
}