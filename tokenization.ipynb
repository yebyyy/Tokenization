{
  "nbformat": 4,
  "nbformat_minor": 0,
  "metadata": {
    "colab": {
      "provenance": [],
      "toc_visible": true,
      "authorship_tag": "ABX9TyMQodRykwIu495hwdAUI0im",
      "include_colab_link": true
    },
    "kernelspec": {
      "name": "python3",
      "display_name": "Python 3"
    },
    "language_info": {
      "name": "python"
    }
  },
  "cells": [
    {
      "cell_type": "markdown",
      "metadata": {
        "id": "view-in-github",
        "colab_type": "text"
      },
      "source": [
        "<a href=\"https://colab.research.google.com/github/yebyyy/Tokenization/blob/main/tokenization.ipynb\" target=\"_parent\"><img src=\"https://colab.research.google.com/assets/colab-badge.svg\" alt=\"Open In Colab\"/></a>"
      ]
    },
    {
      "cell_type": "markdown",
      "source": [
        "### This notebook is for tokenization"
      ],
      "metadata": {
        "id": "BzE5VfZK_HWi"
      }
    },
    {
      "cell_type": "markdown",
      "source": [
        "Tokens are atoms of a llm"
      ],
      "metadata": {
        "id": "hebLKqwEPsVr"
      }
    },
    {
      "cell_type": "markdown",
      "source": [
        "#### Byte Level Tokenization\n",
        "Tiktokenizer.vercel.app -> GPT 2"
      ],
      "metadata": {
        "id": "vnGTmmEaPKyh"
      }
    },
    {
      "cell_type": "markdown",
      "source": [
        "English: space with the next word, single word sometimes changes, case sensitive"
      ],
      "metadata": {
        "id": "gJ20q5foSKdw"
      }
    },
    {
      "cell_type": "markdown",
      "source": [
        "Numbers: kinda arbitrary, sometimes single sometimes muiltiple"
      ],
      "metadata": {
        "id": "uLzXvjGFSOUv"
      }
    },
    {
      "cell_type": "markdown",
      "source": [
        "Non English language: slightly worse than English, longer tokens for English than in other languages, so same thing will lead to more tokens in other languages, chunks broken up more, thus same maximum context window will lead to worse performance"
      ],
      "metadata": {
        "id": "-17txXtvSiA9"
      }
    },
    {
      "cell_type": "markdown",
      "source": [
        "Code: leading space handled individually, wasting tokens"
      ],
      "metadata": {
        "id": "i4daDLyaTi6c"
      }
    },
    {
      "cell_type": "markdown",
      "source": [
        "GPT4 -> Token numbers dropped, python improved"
      ],
      "metadata": {
        "id": "fcFLc74lTxEY"
      }
    },
    {
      "cell_type": "markdown",
      "source": [
        "Not less better, there is an appropriate number"
      ],
      "metadata": {
        "id": "putl4KumUIYV"
      }
    },
    {
      "cell_type": "markdown",
      "source": [
        "----------------------------------------------------------------"
      ],
      "metadata": {
        "id": "QUKcVFPVwGMm"
      }
    },
    {
      "cell_type": "markdown",
      "source": [
        "#### Why not just use the Unicode?\n",
        "- Unicode changes every once in a while"
      ],
      "metadata": {
        "id": "ngolNZ6kwJco"
      }
    },
    {
      "cell_type": "markdown",
      "source": [
        "#### UTF-8\n",
        "Based on the Unicode, turn characters into 1~4 byte representations"
      ],
      "metadata": {
        "id": "hbCa2xwKwzzJ"
      }
    },
    {
      "cell_type": "code",
      "execution_count": null,
      "metadata": {
        "id": "niTyM9qG97kB",
        "colab": {
          "base_uri": "https://localhost:8080/"
        },
        "outputId": "19c00b03-1638-478b-d716-46c6d4726714"
      },
      "outputs": [
        {
          "output_type": "execute_result",
          "data": {
            "text/plain": [
              "[228,\n",
              " 189,\n",
              " 160,\n",
              " 229,\n",
              " 165,\n",
              " 189,\n",
              " 230,\n",
              " 136,\n",
              " 145,\n",
              " 230,\n",
              " 152,\n",
              " 175,\n",
              " 82,\n",
              " 111,\n",
              " 98,\n",
              " 98,\n",
              " 105,\n",
              " 101]"
            ]
          },
          "metadata": {},
          "execution_count": 1
        }
      ],
      "source": [
        "list(\"你好我是Robbie\".encode(\"utf-8\"))"
      ]
    },
    {
      "cell_type": "code",
      "source": [
        "list(\"你好我是Robbie\".encode(\"utf-16\"))"
      ],
      "metadata": {
        "colab": {
          "base_uri": "https://localhost:8080/"
        },
        "id": "ZFb-gXUizSy4",
        "outputId": "4bc50ed5-c23f-45d7-ac71-402753ef7572"
      },
      "execution_count": null,
      "outputs": [
        {
          "output_type": "execute_result",
          "data": {
            "text/plain": [
              "[255,\n",
              " 254,\n",
              " 96,\n",
              " 79,\n",
              " 125,\n",
              " 89,\n",
              " 17,\n",
              " 98,\n",
              " 47,\n",
              " 102,\n",
              " 82,\n",
              " 0,\n",
              " 111,\n",
              " 0,\n",
              " 98,\n",
              " 0,\n",
              " 98,\n",
              " 0,\n",
              " 105,\n",
              " 0,\n",
              " 101,\n",
              " 0]"
            ]
          },
          "metadata": {},
          "execution_count": 2
        }
      ]
    },
    {
      "cell_type": "code",
      "source": [
        "list(\"你好我是Robbie\".encode(\"utf-16\"))"
      ],
      "metadata": {
        "colab": {
          "base_uri": "https://localhost:8080/"
        },
        "id": "1QAjWRX0zT5f",
        "outputId": "08f2f7a3-9b94-4beb-b1e1-9bbe1376bbff"
      },
      "execution_count": null,
      "outputs": [
        {
          "output_type": "execute_result",
          "data": {
            "text/plain": [
              "[255,\n",
              " 254,\n",
              " 96,\n",
              " 79,\n",
              " 125,\n",
              " 89,\n",
              " 17,\n",
              " 98,\n",
              " 47,\n",
              " 102,\n",
              " 82,\n",
              " 0,\n",
              " 111,\n",
              " 0,\n",
              " 98,\n",
              " 0,\n",
              " 98,\n",
              " 0,\n",
              " 105,\n",
              " 0,\n",
              " 101,\n",
              " 0]"
            ]
          },
          "metadata": {},
          "execution_count": 3
        }
      ]
    },
    {
      "cell_type": "markdown",
      "source": [
        "The thing with UTF-16 and UTF-32 is the 0s here representing the waste of tokens"
      ],
      "metadata": {
        "id": "SP4jdx0-zdGo"
      }
    },
    {
      "cell_type": "markdown",
      "source": [
        "#### Why not just use UTF-8?\n",
        "- Since 1 byte is only a size of 256, which is very limited, and the text will be very stretched out, as demonstrated in the UTF-8 encode list"
      ],
      "metadata": {
        "id": "n9UJria-zv-A"
      }
    },
    {
      "cell_type": "markdown",
      "source": [
        "#### Solution: Byte Pair Encoding (BPE) Algorithm"
      ],
      "metadata": {
        "id": "uOIf5r9e4W0u"
      }
    },
    {
      "cell_type": "markdown",
      "source": [
        "- Iteratively replace the most common contiguous sequences of characters in our vocabulary, and replace every occurrence of it by a new token(not in the vocabulary)"
      ],
      "metadata": {
        "id": "Lh_aWOonMPDG"
      }
    },
    {
      "cell_type": "markdown",
      "source": [
        "### Encoding"
      ],
      "metadata": {
        "id": "9Z9N_xjaOsyc"
      }
    },
    {
      "cell_type": "code",
      "source": [
        "text = \"Ｕｎｉｃｏｄｅ! 🅤🅝🅘🅒🅞🅓🅔‽ 🇺‌🇳‌🇮‌🇨‌🇴‌🇩‌🇪! 😄 The very name strikes fear and awe into the hearts of programmers worldwide. We all know we ought to “support Unicode” in our software (whatever that means—like using wchar_t for all the strings, right?). But Unicode can be abstruse, and diving into the thousand-page Unicode Standard plus its dozens of supplementary annexes, reports, and notes can be more than a little intimidating. I don’t blame programmers for still finding the whole thing mysterious, even 30 years after Unicode’s inception.\"\n",
        "utf8 = list(map(int, text.encode(\"utf-8\")))\n",
        "len(text) < len(utf8)"
      ],
      "metadata": {
        "colab": {
          "base_uri": "https://localhost:8080/"
        },
        "id": "LYUgDN_VzkPQ",
        "outputId": "a267d72d-0629-4595-cbe6-afefa807e68d"
      },
      "execution_count": null,
      "outputs": [
        {
          "output_type": "execute_result",
          "data": {
            "text/plain": [
              "True"
            ]
          },
          "metadata": {},
          "execution_count": 4
        }
      ]
    },
    {
      "cell_type": "markdown",
      "source": [
        "Some of the characters have more than one byte"
      ],
      "metadata": {
        "id": "wi8OnledPXyu"
      }
    },
    {
      "cell_type": "markdown",
      "source": [
        "Find the most common pair:"
      ],
      "metadata": {
        "id": "fD58kJ35PhLr"
      }
    },
    {
      "cell_type": "code",
      "source": [
        "def find_most_common(intList):\n",
        "  counts = {}\n",
        "  for pair in zip(intList, intList[1:]):\n",
        "    counts[pair] = counts.get(pair, 0) + 1\n",
        "  return counts\n",
        "common = find_most_common(utf8)\n",
        "commonList = sorted([(c, p) for p, c in common.items()], reverse=True)\n",
        "commonList"
      ],
      "metadata": {
        "colab": {
          "base_uri": "https://localhost:8080/"
        },
        "id": "LpW9JcxlPPPn",
        "outputId": "abd501c1-3c96-4a0b-dcd2-3e841e14f549"
      },
      "execution_count": null,
      "outputs": [
        {
          "output_type": "execute_result",
          "data": {
            "text/plain": [
              "[(20, (101, 32)),\n",
              " (15, (240, 159)),\n",
              " (12, (226, 128)),\n",
              " (12, (105, 110)),\n",
              " (10, (115, 32)),\n",
              " (10, (97, 110)),\n",
              " (10, (32, 97)),\n",
              " (9, (32, 116)),\n",
              " (8, (116, 104)),\n",
              " (7, (159, 135)),\n",
              " (7, (159, 133)),\n",
              " (7, (97, 114)),\n",
              " (6, (239, 189)),\n",
              " (6, (140, 240)),\n",
              " (6, (128, 140)),\n",
              " (6, (116, 32)),\n",
              " (6, (114, 32)),\n",
              " (6, (111, 114)),\n",
              " (6, (110, 103)),\n",
              " (6, (110, 100)),\n",
              " (6, (109, 101)),\n",
              " (6, (104, 101)),\n",
              " (6, (101, 114)),\n",
              " (6, (32, 105)),\n",
              " (5, (117, 115)),\n",
              " (5, (115, 116)),\n",
              " (5, (110, 32)),\n",
              " (5, (100, 101)),\n",
              " (5, (44, 32)),\n",
              " (5, (32, 115)),\n",
              " (4, (116, 105)),\n",
              " (4, (116, 101)),\n",
              " (4, (115, 44)),\n",
              " (4, (114, 105)),\n",
              " (4, (111, 117)),\n",
              " (4, (111, 100)),\n",
              " (4, (110, 116)),\n",
              " (4, (110, 105)),\n",
              " (4, (105, 99)),\n",
              " (4, (104, 97)),\n",
              " (4, (103, 32)),\n",
              " (4, (101, 97)),\n",
              " (4, (100, 32)),\n",
              " (4, (99, 111)),\n",
              " (4, (97, 109)),\n",
              " (4, (85, 110)),\n",
              " (4, (32, 119)),\n",
              " (4, (32, 111)),\n",
              " (4, (32, 102)),\n",
              " (4, (32, 85)),\n",
              " (3, (118, 101)),\n",
              " (3, (116, 115)),\n",
              " (3, (116, 114)),\n",
              " (3, (116, 111)),\n",
              " (3, (114, 116)),\n",
              " (3, (114, 115)),\n",
              " (3, (114, 101)),\n",
              " (3, (111, 102)),\n",
              " (3, (111, 32)),\n",
              " (3, (108, 108)),\n",
              " (3, (108, 101)),\n",
              " (3, (108, 32)),\n",
              " (3, (101, 115)),\n",
              " (3, (101, 110)),\n",
              " (3, (97, 116)),\n",
              " (3, (46, 32)),\n",
              " (3, (32, 240)),\n",
              " (3, (32, 112)),\n",
              " (3, (32, 109)),\n",
              " (3, (32, 100)),\n",
              " (3, (32, 98)),\n",
              " (2, (128, 153)),\n",
              " (2, (121, 32)),\n",
              " (2, (119, 104)),\n",
              " (2, (119, 101)),\n",
              " (2, (117, 112)),\n",
              " (2, (116, 97)),\n",
              " (2, (115, 117)),\n",
              " (2, (114, 121)),\n",
              " (2, (114, 111)),\n",
              " (2, (114, 97)),\n",
              " (2, (112, 114)),\n",
              " (2, (112, 112)),\n",
              " (2, (112, 111)),\n",
              " (2, (112, 108)),\n",
              " (2, (111, 110)),\n",
              " (2, (111, 103)),\n",
              " (2, (110, 115)),\n",
              " (2, (110, 111)),\n",
              " (2, (109, 109)),\n",
              " (2, (108, 105)),\n",
              " (2, (107, 101)),\n",
              " (2, (105, 116)),\n",
              " (2, (105, 111)),\n",
              " (2, (105, 107)),\n",
              " (2, (105, 100)),\n",
              " (2, (104, 116)),\n",
              " (2, (104, 111)),\n",
              " (2, (103, 114)),\n",
              " (2, (103, 104)),\n",
              " (2, (102, 116)),\n",
              " (2, (102, 111)),\n",
              " (2, (102, 32)),\n",
              " (2, (101, 226)),\n",
              " (2, (101, 118)),\n",
              " (2, (101, 112)),\n",
              " (2, (100, 111)),\n",
              " (2, (100, 105)),\n",
              " (2, (100, 97)),\n",
              " (2, (99, 97)),\n",
              " (2, (98, 101)),\n",
              " (2, (97, 108)),\n",
              " (2, (33, 32)),\n",
              " (2, (32, 114)),\n",
              " (2, (32, 110)),\n",
              " (2, (32, 99)),\n",
              " (1, (239, 188)),\n",
              " (1, (189, 143)),\n",
              " (1, (189, 142)),\n",
              " (1, (189, 137)),\n",
              " (1, (189, 133)),\n",
              " (1, (189, 132)),\n",
              " (1, (189, 131)),\n",
              " (1, (189, 32)),\n",
              " (1, (188, 181)),\n",
              " (1, (186, 226)),\n",
              " (1, (181, 239)),\n",
              " (1, (180, 226)),\n",
              " (1, (179, 226)),\n",
              " (1, (174, 226)),\n",
              " (1, (170, 33)),\n",
              " (1, (169, 226)),\n",
              " (1, (168, 226)),\n",
              " (1, (164, 240)),\n",
              " (1, (159, 152)),\n",
              " (1, (158, 240)),\n",
              " (1, (157, 240)),\n",
              " (1, (157, 32)),\n",
              " (1, (156, 115)),\n",
              " (1, (153, 116)),\n",
              " (1, (153, 115)),\n",
              " (1, (152, 240)),\n",
              " (1, (152, 132)),\n",
              " (1, (148, 226)),\n",
              " (1, (148, 108)),\n",
              " (1, (147, 240)),\n",
              " (1, (146, 240)),\n",
              " (1, (143, 239)),\n",
              " (1, (142, 239)),\n",
              " (1, (137, 239)),\n",
              " (1, (135, 186)),\n",
              " (1, (135, 180)),\n",
              " (1, (135, 179)),\n",
              " (1, (135, 174)),\n",
              " (1, (135, 170)),\n",
              " (1, (135, 169)),\n",
              " (1, (135, 168)),\n",
              " (1, (133, 164)),\n",
              " (1, (133, 158)),\n",
              " (1, (133, 157)),\n",
              " (1, (133, 152)),\n",
              " (1, (133, 148)),\n",
              " (1, (133, 147)),\n",
              " (1, (133, 146)),\n",
              " (1, (133, 33)),\n",
              " (1, (132, 239)),\n",
              " (1, (132, 32)),\n",
              " (1, (131, 239)),\n",
              " (1, (128, 189)),\n",
              " (1, (128, 157)),\n",
              " (1, (128, 156)),\n",
              " (1, (128, 148)),\n",
              " (1, (122, 101)),\n",
              " (1, (121, 115)),\n",
              " (1, (121, 101)),\n",
              " (1, (120, 101)),\n",
              " (1, (119, 111)),\n",
              " (1, (119, 105)),\n",
              " (1, (119, 99)),\n",
              " (1, (119, 97)),\n",
              " (1, (119, 32)),\n",
              " (1, (118, 105)),\n",
              " (1, (117, 116)),\n",
              " (1, (117, 114)),\n",
              " (1, (117, 103)),\n",
              " (1, (116, 119)),\n",
              " (1, (116, 116)),\n",
              " (1, (116, 108)),\n",
              " (1, (116, 63)),\n",
              " (1, (115, 226)),\n",
              " (1, (115, 111)),\n",
              " (1, (115, 105)),\n",
              " (1, (115, 101)),\n",
              " (1, (115, 97)),\n",
              " (1, (114, 117)),\n",
              " (1, (114, 108)),\n",
              " (1, (114, 100)),\n",
              " (1, (114, 95)),\n",
              " (1, (112, 116)),\n",
              " (1, (112, 97)),\n",
              " (1, (111, 122)),\n",
              " (1, (111, 119)),\n",
              " (1, (111, 116)),\n",
              " (1, (111, 108)),\n",
              " (1, (110, 226)),\n",
              " (1, (110, 110)),\n",
              " (1, (110, 101)),\n",
              " (1, (110, 99)),\n",
              " (1, (110, 97)),\n",
              " (1, (110, 46)),\n",
              " (1, (109, 121)),\n",
              " (1, (109, 111)),\n",
              " (1, (109, 105)),\n",
              " (1, (108, 117)),\n",
              " (1, (108, 100)),\n",
              " (1, (108, 97)),\n",
              " (1, (107, 110)),\n",
              " (1, (105, 118)),\n",
              " (1, (105, 109)),\n",
              " (1, (105, 108)),\n",
              " (1, (105, 103)),\n",
              " (1, (104, 105)),\n",
              " (1, (103, 115)),\n",
              " (1, (103, 101)),\n",
              " (1, (103, 46)),\n",
              " (1, (102, 105)),\n",
              " (1, (102, 101)),\n",
              " (1, (101, 120)),\n",
              " (1, (101, 109)),\n",
              " (1, (101, 46)),\n",
              " (1, (101, 44)),\n",
              " (1, (100, 119)),\n",
              " (1, (100, 45)),\n",
              " (1, (99, 104)),\n",
              " (1, (99, 101)),\n",
              " (1, (98, 115)),\n",
              " (1, (98, 108)),\n",
              " (1, (97, 119)),\n",
              " (1, (97, 103)),\n",
              " (1, (97, 102)),\n",
              " (1, (97, 98)),\n",
              " (1, (97, 32)),\n",
              " (1, (95, 116)),\n",
              " (1, (87, 101)),\n",
              " (1, (84, 104)),\n",
              " (1, (83, 116)),\n",
              " (1, (73, 32)),\n",
              " (1, (66, 117)),\n",
              " (1, (63, 41)),\n",
              " (1, (51, 48)),\n",
              " (1, (48, 32)),\n",
              " (1, (45, 112)),\n",
              " (1, (41, 46)),\n",
              " (1, (40, 119)),\n",
              " (1, (32, 226)),\n",
              " (1, (32, 121)),\n",
              " (1, (32, 118)),\n",
              " (1, (32, 117)),\n",
              " (1, (32, 108)),\n",
              " (1, (32, 107)),\n",
              " (1, (32, 104)),\n",
              " (1, (32, 101)),\n",
              " (1, (32, 87)),\n",
              " (1, (32, 84)),\n",
              " (1, (32, 83)),\n",
              " (1, (32, 73)),\n",
              " (1, (32, 66)),\n",
              " (1, (32, 51)),\n",
              " (1, (32, 40))]"
            ]
          },
          "metadata": {},
          "execution_count": 5
        }
      ]
    },
    {
      "cell_type": "code",
      "source": [
        "top_pair = max(common, key=common.get)\n",
        "top_pair"
      ],
      "metadata": {
        "colab": {
          "base_uri": "https://localhost:8080/"
        },
        "id": "QaRZxXP-UXP1",
        "outputId": "49ff6273-705a-4fca-9f26-d6c59e9784ac"
      },
      "execution_count": null,
      "outputs": [
        {
          "output_type": "execute_result",
          "data": {
            "text/plain": [
              "(101, 32)"
            ]
          },
          "metadata": {},
          "execution_count": 6
        }
      ]
    },
    {
      "cell_type": "code",
      "source": [
        "chr(101), chr(32)"
      ],
      "metadata": {
        "colab": {
          "base_uri": "https://localhost:8080/"
        },
        "id": "CutF88NxTXgq",
        "outputId": "70d3c24b-1ef3-4a3c-cc09-53a8a2081c46"
      },
      "execution_count": null,
      "outputs": [
        {
          "output_type": "execute_result",
          "data": {
            "text/plain": [
              "('e', ' ')"
            ]
          },
          "metadata": {},
          "execution_count": 7
        }
      ]
    },
    {
      "cell_type": "markdown",
      "source": [
        "'e ' is the most common pair in this iteration"
      ],
      "metadata": {
        "id": "e4mB8DW4TewG"
      }
    },
    {
      "cell_type": "markdown",
      "source": [
        "- Now we need to iterate over the text and replace 'e ' with a character of ord(char) = 256, since the given text is from 0-255"
      ],
      "metadata": {
        "id": "A8F8PcSyT7H_"
      }
    },
    {
      "cell_type": "code",
      "source": [
        "def replace_key(intList, pair, replacement):\n",
        "  newList = []\n",
        "  i = 0\n",
        "  while i < len(intList):\n",
        "    if i < len(intList) - 1 and intList[i] == pair[0] and intList[i+1] == pair[1]:\n",
        "      newList.append(replacement)\n",
        "      i += 2\n",
        "    else:\n",
        "      newList.append(intList[i])\n",
        "      i += 1\n",
        "  return newList\n",
        "\n",
        "tokens = replace_key(utf8, top_pair, 256)\n",
        "tokens, len(tokens)"
      ],
      "metadata": {
        "colab": {
          "base_uri": "https://localhost:8080/"
        },
        "id": "vOB8bb8JTkp4",
        "outputId": "bfc3f15f-1227-4af6-a554-bc410949dba4"
      },
      "execution_count": null,
      "outputs": [
        {
          "output_type": "execute_result",
          "data": {
            "text/plain": [
              "([239,\n",
              "  188,\n",
              "  181,\n",
              "  239,\n",
              "  189,\n",
              "  142,\n",
              "  239,\n",
              "  189,\n",
              "  137,\n",
              "  239,\n",
              "  189,\n",
              "  131,\n",
              "  239,\n",
              "  189,\n",
              "  143,\n",
              "  239,\n",
              "  189,\n",
              "  132,\n",
              "  239,\n",
              "  189,\n",
              "  133,\n",
              "  33,\n",
              "  32,\n",
              "  240,\n",
              "  159,\n",
              "  133,\n",
              "  164,\n",
              "  240,\n",
              "  159,\n",
              "  133,\n",
              "  157,\n",
              "  240,\n",
              "  159,\n",
              "  133,\n",
              "  152,\n",
              "  240,\n",
              "  159,\n",
              "  133,\n",
              "  146,\n",
              "  240,\n",
              "  159,\n",
              "  133,\n",
              "  158,\n",
              "  240,\n",
              "  159,\n",
              "  133,\n",
              "  147,\n",
              "  240,\n",
              "  159,\n",
              "  133,\n",
              "  148,\n",
              "  226,\n",
              "  128,\n",
              "  189,\n",
              "  32,\n",
              "  240,\n",
              "  159,\n",
              "  135,\n",
              "  186,\n",
              "  226,\n",
              "  128,\n",
              "  140,\n",
              "  240,\n",
              "  159,\n",
              "  135,\n",
              "  179,\n",
              "  226,\n",
              "  128,\n",
              "  140,\n",
              "  240,\n",
              "  159,\n",
              "  135,\n",
              "  174,\n",
              "  226,\n",
              "  128,\n",
              "  140,\n",
              "  240,\n",
              "  159,\n",
              "  135,\n",
              "  168,\n",
              "  226,\n",
              "  128,\n",
              "  140,\n",
              "  240,\n",
              "  159,\n",
              "  135,\n",
              "  180,\n",
              "  226,\n",
              "  128,\n",
              "  140,\n",
              "  240,\n",
              "  159,\n",
              "  135,\n",
              "  169,\n",
              "  226,\n",
              "  128,\n",
              "  140,\n",
              "  240,\n",
              "  159,\n",
              "  135,\n",
              "  170,\n",
              "  33,\n",
              "  32,\n",
              "  240,\n",
              "  159,\n",
              "  152,\n",
              "  132,\n",
              "  32,\n",
              "  84,\n",
              "  104,\n",
              "  256,\n",
              "  118,\n",
              "  101,\n",
              "  114,\n",
              "  121,\n",
              "  32,\n",
              "  110,\n",
              "  97,\n",
              "  109,\n",
              "  256,\n",
              "  115,\n",
              "  116,\n",
              "  114,\n",
              "  105,\n",
              "  107,\n",
              "  101,\n",
              "  115,\n",
              "  32,\n",
              "  102,\n",
              "  101,\n",
              "  97,\n",
              "  114,\n",
              "  32,\n",
              "  97,\n",
              "  110,\n",
              "  100,\n",
              "  32,\n",
              "  97,\n",
              "  119,\n",
              "  256,\n",
              "  105,\n",
              "  110,\n",
              "  116,\n",
              "  111,\n",
              "  32,\n",
              "  116,\n",
              "  104,\n",
              "  256,\n",
              "  104,\n",
              "  101,\n",
              "  97,\n",
              "  114,\n",
              "  116,\n",
              "  115,\n",
              "  32,\n",
              "  111,\n",
              "  102,\n",
              "  32,\n",
              "  112,\n",
              "  114,\n",
              "  111,\n",
              "  103,\n",
              "  114,\n",
              "  97,\n",
              "  109,\n",
              "  109,\n",
              "  101,\n",
              "  114,\n",
              "  115,\n",
              "  32,\n",
              "  119,\n",
              "  111,\n",
              "  114,\n",
              "  108,\n",
              "  100,\n",
              "  119,\n",
              "  105,\n",
              "  100,\n",
              "  101,\n",
              "  46,\n",
              "  32,\n",
              "  87,\n",
              "  256,\n",
              "  97,\n",
              "  108,\n",
              "  108,\n",
              "  32,\n",
              "  107,\n",
              "  110,\n",
              "  111,\n",
              "  119,\n",
              "  32,\n",
              "  119,\n",
              "  256,\n",
              "  111,\n",
              "  117,\n",
              "  103,\n",
              "  104,\n",
              "  116,\n",
              "  32,\n",
              "  116,\n",
              "  111,\n",
              "  32,\n",
              "  226,\n",
              "  128,\n",
              "  156,\n",
              "  115,\n",
              "  117,\n",
              "  112,\n",
              "  112,\n",
              "  111,\n",
              "  114,\n",
              "  116,\n",
              "  32,\n",
              "  85,\n",
              "  110,\n",
              "  105,\n",
              "  99,\n",
              "  111,\n",
              "  100,\n",
              "  101,\n",
              "  226,\n",
              "  128,\n",
              "  157,\n",
              "  32,\n",
              "  105,\n",
              "  110,\n",
              "  32,\n",
              "  111,\n",
              "  117,\n",
              "  114,\n",
              "  32,\n",
              "  115,\n",
              "  111,\n",
              "  102,\n",
              "  116,\n",
              "  119,\n",
              "  97,\n",
              "  114,\n",
              "  256,\n",
              "  40,\n",
              "  119,\n",
              "  104,\n",
              "  97,\n",
              "  116,\n",
              "  101,\n",
              "  118,\n",
              "  101,\n",
              "  114,\n",
              "  32,\n",
              "  116,\n",
              "  104,\n",
              "  97,\n",
              "  116,\n",
              "  32,\n",
              "  109,\n",
              "  101,\n",
              "  97,\n",
              "  110,\n",
              "  115,\n",
              "  226,\n",
              "  128,\n",
              "  148,\n",
              "  108,\n",
              "  105,\n",
              "  107,\n",
              "  256,\n",
              "  117,\n",
              "  115,\n",
              "  105,\n",
              "  110,\n",
              "  103,\n",
              "  32,\n",
              "  119,\n",
              "  99,\n",
              "  104,\n",
              "  97,\n",
              "  114,\n",
              "  95,\n",
              "  116,\n",
              "  32,\n",
              "  102,\n",
              "  111,\n",
              "  114,\n",
              "  32,\n",
              "  97,\n",
              "  108,\n",
              "  108,\n",
              "  32,\n",
              "  116,\n",
              "  104,\n",
              "  256,\n",
              "  115,\n",
              "  116,\n",
              "  114,\n",
              "  105,\n",
              "  110,\n",
              "  103,\n",
              "  115,\n",
              "  44,\n",
              "  32,\n",
              "  114,\n",
              "  105,\n",
              "  103,\n",
              "  104,\n",
              "  116,\n",
              "  63,\n",
              "  41,\n",
              "  46,\n",
              "  32,\n",
              "  66,\n",
              "  117,\n",
              "  116,\n",
              "  32,\n",
              "  85,\n",
              "  110,\n",
              "  105,\n",
              "  99,\n",
              "  111,\n",
              "  100,\n",
              "  256,\n",
              "  99,\n",
              "  97,\n",
              "  110,\n",
              "  32,\n",
              "  98,\n",
              "  256,\n",
              "  97,\n",
              "  98,\n",
              "  115,\n",
              "  116,\n",
              "  114,\n",
              "  117,\n",
              "  115,\n",
              "  101,\n",
              "  44,\n",
              "  32,\n",
              "  97,\n",
              "  110,\n",
              "  100,\n",
              "  32,\n",
              "  100,\n",
              "  105,\n",
              "  118,\n",
              "  105,\n",
              "  110,\n",
              "  103,\n",
              "  32,\n",
              "  105,\n",
              "  110,\n",
              "  116,\n",
              "  111,\n",
              "  32,\n",
              "  116,\n",
              "  104,\n",
              "  256,\n",
              "  116,\n",
              "  104,\n",
              "  111,\n",
              "  117,\n",
              "  115,\n",
              "  97,\n",
              "  110,\n",
              "  100,\n",
              "  45,\n",
              "  112,\n",
              "  97,\n",
              "  103,\n",
              "  256,\n",
              "  85,\n",
              "  110,\n",
              "  105,\n",
              "  99,\n",
              "  111,\n",
              "  100,\n",
              "  256,\n",
              "  83,\n",
              "  116,\n",
              "  97,\n",
              "  110,\n",
              "  100,\n",
              "  97,\n",
              "  114,\n",
              "  100,\n",
              "  32,\n",
              "  112,\n",
              "  108,\n",
              "  117,\n",
              "  115,\n",
              "  32,\n",
              "  105,\n",
              "  116,\n",
              "  115,\n",
              "  32,\n",
              "  100,\n",
              "  111,\n",
              "  122,\n",
              "  101,\n",
              "  110,\n",
              "  115,\n",
              "  32,\n",
              "  111,\n",
              "  102,\n",
              "  32,\n",
              "  115,\n",
              "  117,\n",
              "  112,\n",
              "  112,\n",
              "  108,\n",
              "  101,\n",
              "  109,\n",
              "  101,\n",
              "  110,\n",
              "  116,\n",
              "  97,\n",
              "  114,\n",
              "  121,\n",
              "  32,\n",
              "  97,\n",
              "  110,\n",
              "  110,\n",
              "  101,\n",
              "  120,\n",
              "  101,\n",
              "  115,\n",
              "  44,\n",
              "  32,\n",
              "  114,\n",
              "  101,\n",
              "  112,\n",
              "  111,\n",
              "  114,\n",
              "  116,\n",
              "  115,\n",
              "  44,\n",
              "  32,\n",
              "  97,\n",
              "  110,\n",
              "  100,\n",
              "  32,\n",
              "  110,\n",
              "  111,\n",
              "  116,\n",
              "  101,\n",
              "  115,\n",
              "  32,\n",
              "  99,\n",
              "  97,\n",
              "  110,\n",
              "  32,\n",
              "  98,\n",
              "  256,\n",
              "  109,\n",
              "  111,\n",
              "  114,\n",
              "  256,\n",
              "  116,\n",
              "  104,\n",
              "  97,\n",
              "  110,\n",
              "  32,\n",
              "  97,\n",
              "  32,\n",
              "  108,\n",
              "  105,\n",
              "  116,\n",
              "  116,\n",
              "  108,\n",
              "  256,\n",
              "  105,\n",
              "  110,\n",
              "  116,\n",
              "  105,\n",
              "  109,\n",
              "  105,\n",
              "  100,\n",
              "  97,\n",
              "  116,\n",
              "  105,\n",
              "  110,\n",
              "  103,\n",
              "  46,\n",
              "  32,\n",
              "  73,\n",
              "  32,\n",
              "  100,\n",
              "  111,\n",
              "  110,\n",
              "  226,\n",
              "  128,\n",
              "  153,\n",
              "  116,\n",
              "  32,\n",
              "  98,\n",
              "  108,\n",
              "  97,\n",
              "  109,\n",
              "  256,\n",
              "  112,\n",
              "  114,\n",
              "  111,\n",
              "  103,\n",
              "  114,\n",
              "  97,\n",
              "  109,\n",
              "  109,\n",
              "  101,\n",
              "  114,\n",
              "  115,\n",
              "  32,\n",
              "  102,\n",
              "  111,\n",
              "  114,\n",
              "  32,\n",
              "  115,\n",
              "  116,\n",
              "  105,\n",
              "  108,\n",
              "  108,\n",
              "  32,\n",
              "  102,\n",
              "  105,\n",
              "  110,\n",
              "  100,\n",
              "  105,\n",
              "  110,\n",
              "  103,\n",
              "  32,\n",
              "  116,\n",
              "  104,\n",
              "  256,\n",
              "  119,\n",
              "  104,\n",
              "  111,\n",
              "  108,\n",
              "  256,\n",
              "  116,\n",
              "  104,\n",
              "  105,\n",
              "  110,\n",
              "  103,\n",
              "  32,\n",
              "  109,\n",
              "  121,\n",
              "  115,\n",
              "  116,\n",
              "  101,\n",
              "  114,\n",
              "  105,\n",
              "  111,\n",
              "  117,\n",
              "  115,\n",
              "  44,\n",
              "  32,\n",
              "  101,\n",
              "  118,\n",
              "  101,\n",
              "  110,\n",
              "  32,\n",
              "  51,\n",
              "  48,\n",
              "  32,\n",
              "  121,\n",
              "  101,\n",
              "  97,\n",
              "  114,\n",
              "  115,\n",
              "  32,\n",
              "  97,\n",
              "  102,\n",
              "  116,\n",
              "  101,\n",
              "  114,\n",
              "  32,\n",
              "  85,\n",
              "  110,\n",
              "  105,\n",
              "  99,\n",
              "  111,\n",
              "  100,\n",
              "  101,\n",
              "  226,\n",
              "  128,\n",
              "  153,\n",
              "  115,\n",
              "  32,\n",
              "  105,\n",
              "  110,\n",
              "  99,\n",
              "  101,\n",
              "  112,\n",
              "  116,\n",
              "  105,\n",
              "  111,\n",
              "  110,\n",
              "  46],\n",
              " 596)"
            ]
          },
          "metadata": {},
          "execution_count": 8
        }
      ]
    },
    {
      "cell_type": "markdown",
      "source": [
        "#### Training the tokenizer\n",
        "Putting everything together"
      ],
      "metadata": {
        "id": "YwvpW31ph03X"
      }
    },
    {
      "cell_type": "code",
      "source": [
        "text = \"A Programmer’s Introduction to UnicodeMarch 3, 2017 · Coding · 24 CommentsＵｎｉｃｏｄｅ! 🅤🅝🅘🅒🅞🅓🅔‽ 🇺‌🇳‌🇮‌🇨‌🇴‌🇩‌🇪! 😄 The very name strikes fear and awe into the hearts of programmers worldwide. We all know we ought to “support Unicode” in our software (whatever that means—like using wchar_t for all the strings, right?). But Unicode can be abstruse, and diving into the thousand-page Unicode Standard plus its dozens of supplementary annexes, reports, and notes can be more than a little intimidating. I don’t blame programmers for still finding the whole thing mysterious, even 30 years after Unicode’s inception.A few months ago, I got interested in Unicode and decided to spend some time learning more about it in detail. In this article, I’ll give an introduction to it from a programmer’s point of view.I’m going to focus on the character set and what’s involved in working with strings and files of Unicode text. However, in this article I’m not going to talk about fonts, text layout/shaping/rendering, or localization in detail—those are separate issues, beyond my scope (and knowledge) here.Diversity and Inherent ComplexityThe Unicode CodespaceCodespace AllocationScriptsUsage FrequencyEncodingsUTF-8UTF-16Combining MarksCanonical EquivalenceNormalization FormsGrapheme ClustersAnd More…Diversity and Inherent ComplexityAs soon as you start to study Unicode, it becomes clear that it represents a large jump in complexity over character sets like ASCII that you may be more familiar with. It’s not just that Unicode contains a much larger number of characters, although that’s part of it. Unicode also has a great deal of internal structure, features, and special cases, making it much more than what one might expect a mere “character set” to be. We’ll see some of that later in this article.When confronting all this complexity, especially as an engineer, it’s hard not to find oneself asking, “Why do we need all this? Is this really necessary? Couldn’t it be simplified?”However, Unicode aims to faithfully represent the entire world’s writing systems. The Unicode Consortium’s stated goal is “enabling people around the world to use computers in any language”. And as you might imagine, the diversity of written languages is immense! To date, Unicode supports 135 different scripts, covering some 1100 languages, and there’s still a long tail of over 100 unsupported scripts, both modern and historical, which people are still working to add.Given this enormous diversity, it’s inevitable that representing it is a complicated project. Unicode embraces that diversity, and accepts the complexity inherent in its mission to include all human writing systems. It doesn’t make a lot of trade-offs in the name of simplification, and it makes exceptions to its own rules where necessary to further its mission.Moreover, Unicode is committed not just to supporting texts in any single language, but also to letting multiple languages coexist within one text—which introduces even more complexity.Most programming languages have libraries available to handle the gory low-level details of text manipulation, but as a programmer, you’ll still need to know about certain Unicode features in order to know when and how to apply them. It may take some time to wrap your head around it all, but don’t be discouraged—think about the billions of people for whom your software will be more accessible through supporting text in their language. Embrace the complexity!The Unicode CodespaceLet’s start with some general orientation. The basic elements of Unicode—its “characters”, although that term isn’t quite right—are called code points. Code points are identified by number, customarily written in hexadecimal with the prefix “U+”, such as U+0041 “A” latin capital letter a or U+03B8 “θ” greek small letter theta. Each code point also has a short name, and quite a few other properties, specified in the Unicode Character Database.The set of all possible code points is called the codespace. The Unicode codespace consists of 1,114,112 code points. However, only 128,237 of them—about 12% of the codespace—are actually assigned, to date. There’s plenty of room for growth! Unicode also reserves an additional 137,468 code points as “private use” areas, which have no standardized meaning and are available for individual applications to define for their own purposes.Codespace AllocationTo get a feel for how the codespace is laid out, it’s helpful to visualize it. Below is a map of the entire codespace, with one pixel per code point. It’s arranged in tiles for visual coherence; each small square is 16×16 = 256 code points, and each large square is a “plane” of 65,536 code points. There are 17 planes altogether.Map of the Unicode codespace (click to zoom)White represents unassigned space. Blue is assigned code points, green is private-use areas, and the small red area is surrogates (more about those later). As you can see, the assigned code points are distributed somewhat sparsely, but concentrated in the first three planes.Plane 0 is also known as the “Basic Multilingual Plane”, or BMP. The BMP contains essentially all the characters needed for modern text in any script, including Latin, Cyrillic, Greek, Han (Chinese), Japanese, Korean, Arabic, Hebrew, Devanagari (Indian), and many more.(In the past, the codespace was just the BMP and no more—Unicode was originally conceived as a straightforward 16-bit encoding, with only 65,536 code points. It was expanded to its current size in 1996. However, the vast majority of code points in modern text belong to the BMP.)Plane 1 contains historical scripts, such as Sumerian cuneiform and Egyptian hieroglyphs, as well as emoji and various other symbols. Plane 2 contains a large block of less-common and historical Han characters. The remaining planes are empty, except for a small number of rarely-used formatting characters in Plane 14; planes 15–16 are reserved entirely for private use.ScriptsLet’s zoom in on the first three planes, since that’s where the action is:Map of scripts in Unicode planes 0–2 (click to zoom)This map color-codes the 135 different scripts in Unicode. You can see how Han () and Korean () take up most of the range of the BMP (the left large square). By contrast, all of the European, Middle Eastern, and South Asian scripts fit into the first row of the BMP in this diagram.Many areas of the codespace are adapted or copied from earlier encodings. For example, the first 128 code points of Unicode are just a copy of ASCII. This has clear benefits for compatibility—it’s easy to losslessly convert texts from smaller encodings into Unicode (and the other direction too, as long as no characters outside the smaller encoding are used).Usage FrequencyOne more interesting way to visualize the codespace is to look at the distribution of usage—in other words, how often each code point is actually used in real-world texts. Below is a heat map of planes 0–2 based on a large sample of text from Wikipedia and Twitter (all languages). Frequency increases from black (never seen) through red and yellow to white.Heat map of code point usage frequency in Unicode planes 0–2 (click to zoom)You can see that the vast majority of this text sample lies in the BMP, with only scattered usage of code points from planes 1–2. The biggest exception is emoji, which show up here as the several bright squares in the bottom row of plane 1.EncodingsWe’ve seen that Unicode code points are abstractly identified by their index in the codespace, ranging from U+0000 to U+10FFFF. But how do code points get represented as bytes, in memory or in a file?The most convenient, computer-friendliest (and programmer-friendliest) thing to do would be to just store the code point index as a 32-bit integer. This works, but it consumes 4 bytes per code point, which is sort of a lot. Using 32-bit ints for Unicode will cost you a bunch of extra storage, memory, and performance in bandwidth-bound scenarios, if you work with a lot of text.Consequently, there are several more-compact encodings for Unicode. The 32-bit integer encoding is officially called UTF-32 (UTF = “Unicode Transformation Format”), but it’s rarely used for storage. At most, it comes up sometimes as a temporary internal representation, for examining or operating on the code points in a string.Much more commonly, you’ll see Unicode text encoded as either UTF-8 or UTF-16. These are both variable-length encodings, made up of 8-bit or 16-bit units, respectively. In these schemes, code points with smaller index values take up fewer bytes, which saves a lot of memory for typical texts. The trade-off is that processing UTF-8/16 texts is more programmatically involved, and likely slower.UTF-8In UTF-8, each code point is stored using 1 to 4 bytes, based on its index value.UTF-8 uses a system of binary prefixes, in which the high bits of each byte mark whether it’s a single byte, the beginning of a multi-byte sequence, or a continuation byte; the remaining bits, concatenated, give the code point index. This table shows how it works:UTF-8 (binary)\tCode point (binary)\tRange0xxxxxxx\txxxxxxx\tU+0000–U+007F110xxxxx 10yyyyyy\txxxxxyyyyyy\tU+0080–U+07FF1110xxxx 10yyyyyy 10zzzzzz\txxxxyyyyyyzzzzzz\tU+0800–U+FFFF11110xxx 10yyyyyy 10zzzzzz 10wwwwww\txxxyyyyyyzzzzzzwwwwww\tU+10000–U+10FFFFA handy property of UTF-8 is that code points below 128 (ASCII characters) are encoded as single bytes, and all non-ASCII code points are encoded using sequences of bytes 128–255. This has a couple of nice consequences. First, any strings or files out there that are already in ASCII can also be interpreted as UTF-8 without any conversion. Second, lots of widely-used string programming idioms—such as null termination, or delimiters (newlines, tabs, commas, slashes, etc.)—will just work on UTF-8 strings. ASCII bytes never occur inside the encoding of non-ASCII code points, so searching byte-wise for a null terminator or a delimiter will do the right thing.Thanks to this convenience, it’s relatively simple to extend legacy ASCII programs and APIs to handle UTF-8 strings. UTF-8 is very widely used in the Unix/Linux and Web worlds, and many programmers argue UTF-8 should be the default encoding everywhere.However, UTF-8 isn’t a drop-in replacement for ASCII strings in all respects. For instance, code that iterates over the “characters” in a string will need to decode UTF-8 and iterate over code points (or maybe grapheme clusters—more about those later), not bytes. When you measure the “length” of a string, you’ll need to think about whether you want the length in bytes, the length in code points, the width of the text when rendered, or something else.UTF-16The other encoding that you’re likely to encounter is UTF-16. It uses 16-bit words, with each code point stored as either 1 or 2 words.Like UTF-8, we can express the UTF-16 encoding rules in the form of binary prefixes:UTF-16 (binary)\tCode point (binary)\tRangexxxxxxxxxxxxxxxx\txxxxxxxxxxxxxxxx\tU+0000–U+FFFF110110xxxxxxxxxx 110111yyyyyyyyyy\txxxxxxxxxxyyyyyyyyyy + 0x10000\tU+10000–U+10FFFFA more common way that people talk about UTF-16 encoding, though, is in terms of code points called “surrogates”. All the code points in the range U+D800–U+DFFF—or in other words, the code points that match the binary prefixes 110110 and 110111 in the table above—are reserved specifically for UTF-16 encoding, and don’t represent any valid characters on their own. They’re only meant to occur in the 2-word encoding pattern above, which is called a “surrogate pair”. Surrogate code points are illegal in any other context! They’re not allowed in UTF-8 or UTF-32 at all.Historically, UTF-16 is a descendant of the original, pre-1996 versions of Unicode, in which there were only 65,536 code points. The original intention was that there would be no different “encodings”; Unicode was supposed to be a straightforward 16-bit character set. Later, the codespace was expanded to make room for a long tail of less-common (but still important) Han characters, which the Unicode designers didn’t originally plan for. Surrogates were then introduced, as—to put it bluntly—a kludge, allowing 16-bit encodings to access the new code points.Today, Javascript uses UTF-16 as its standard string representation: if you ask for the length of a string, or iterate over it, etc., the result will be in UTF-16 words, with any code points outside the BMP expressed as surrogate pairs. UTF-16 is also used by the Microsoft Win32 APIs; though Win32 supports either 8-bit or 16-bit strings, the 8-bit version unaccountably still doesn’t support UTF-8—only legacy code-page encodings, like ANSI. This leaves UTF-16 as the only way to get proper Unicode support in Windows. (Update: in Win10 version 1903, they finally added UTF-8 support to the 8-bit APIs! 😊)By the way, UTF-16’s words can be stored either little-endian or big-endian. Unicode has no opinion on that issue, though it does encourage the convention of putting U+FEFF zero width no-break space at the top of a UTF-16 file as a byte-order mark, to disambiguate the endianness. (If the file doesn’t match the system’s endianness, the BOM will be decoded as U+FFFE, which isn’t a valid code point.)Combining MarksIn the story so far, we’ve been focusing on code points. But in Unicode, a “character” can be more complicated than just an individual code point!Unicode includes a system for dynamically composing characters, by combining multiple code points together. This is used in various ways to gain flexibility without causing a huge combinatorial explosion in the number of code points.In European languages, for example, this shows up in the application of diacritics to letters. Unicode supports a wide range of diacritics, including acute and grave accents, umlauts, cedillas, and many more. All these diacritics can be applied to any letter of any alphabet—and in fact, multiple diacritics can be used on a single letter.If Unicode tried to assign a distinct code point to every possible combination of letter and diacritics, things would rapidly get out of hand. Instead, the dynamic composition system enables you to construct the character you want, by starting with a base code point (the letter) and appending additional code points, called “combining marks”, to specify the diacritics. When a text renderer sees a sequence like this in a string, it automatically stacks the diacritics over or under the base letter to create a composed character.For example, the accented character “Á” can be expressed as a string of two code points: U+0041 “A” latin capital letter a plus U+0301 “◌́” combining acute accent. This string automatically gets rendered as a single character: “Á”.Now, Unicode does also include many “precomposed” code points, each representing a letter with some combination of diacritics already applied, such as U+00C1 “Á” latin capital letter a with acute or U+1EC7 “ệ” latin small letter e with circumflex and dot below. I suspect these are mostly inherited from older encodings that were assimilated into Unicode, and kept around for compatibility. In practice, there are precomposed code points for most of the common letter-with-diacritic combinations in European-script languages, so they don’t use dynamic composition that much in typical text.Still, the system of combining marks does allow for an arbitrary number of diacritics to be stacked on any base character. The reductio-ad-absurdum of this is Zalgo text, which works by ͖͟ͅr͞aṋ̫̠̖͈̗d͖̻̹óm̪͙͕̗̝ļ͇̰͓̳̫ý͓̥̟͍ ̕s̫t̫̱͕̗̰̼̘͜a̼̩͖͇̠͈̣͝c̙͍k̖̱̹͍͘i̢n̨̺̝͇͇̟͙ģ̫̮͎̻̟ͅ ̕n̼̺͈͞u̮͙m̺̭̟̗͞e̞͓̰̤͓̫r̵o̖ṷs҉̪͍̭̬̝̤ ̮͉̝̞̗̟͠d̴̟̜̱͕͚i͇̫̼̯̭̜͡ḁ͙̻̼c̲̲̹r̨̠̹̣̰̦i̱t̤̻̤͍͙̘̕i̵̜̭̤̱͎c̵s ͘o̱̲͈̙͖͇̲͢n͘ ̜͈e̬̲̠̩ac͕̺̠͉h̷̪ ̺̣͖̱ḻ̫̬̝̹ḙ̙̺͙̭͓̲t̞̞͇̲͉͍t̷͔̪͉̲̻̠͙e̦̻͈͉͇r͇̭̭̬͖,̖́ ̜͙͓̣̭s̘̘͈o̱̰̤̲ͅ ̛̬̜̙t̼̦͕̱̹͕̥h̳̲͈͝ͅa̦t̻̲ ̻̟̭̦̖t̛̰̩h̠͕̳̝̫͕e͈̤̘͖̞͘y҉̝͙ ̷͉͔̰̠o̞̰v͈͈̳̘͜er̶f̰͈͔ḻ͕̘̫̺̲o̲̭͙͠ͅw̱̳̺ ͜t̸h͇̭͕̳͍e̖̯̟̠ ͍̞̜͔̩̪͜ļ͎̪̲͚i̝̲̹̙̩̹n̨̦̩̖ḙ̼̲̼͢ͅ ̬͝s̼͚̘̞͝p͙̘̻a̙c҉͉̜̤͈̯̖i̥͡n̦̠̱͟g̸̗̻̦̭̮̟ͅ ̳̪̠͖̳̯̕a̫͜n͝d͡ ̣̦̙ͅc̪̗r̴͙̮̦̹̳e͇͚̞͔̹̫͟a̙̺̙ț͔͎̘̹ͅe̥̩͍ a͖̪̜̮͙̹n̢͉̝ ͇͉͓̦̼́a̳͖̪̤̱p̖͔͔̟͇͎͠p̱͍̺ę̲͎͈̰̲̤̫a̯͜r̨̮̫̣̘a̩̯͖n̹̦̰͎̣̞̞c̨̦̱͔͎͍͖e̬͓͘ ̤̰̩͙̤̬͙o̵̼̻̬̻͇̮̪f̴ ̡̙̭͓͖̪̤“̸͙̠̼c̳̗͜o͏̼͙͔̮r̞̫̺̞̥̬ru̺̻̯͉̭̻̯p̰̥͓̣̫̙̤͢t̳͍̳̖ͅi̶͈̝͙̼̙̹o̡͔n̙̺̹̖̩͝ͅ”̨̗͖͚̩.̯͓A few other places where dynamic character composition shows up in Unicode:Vowel-pointing notation in Arabic and Hebrew. In these languages, words are normally spelled with some of their vowels left out. They then have diacritic notation to indicate the vowels (used in dictionaries, language-teaching materials, children’s books, and such). These diacritics are expressed with combining marks.A Hebrew example, with niqqud:\tאֶת דַלְתִּי הֵזִיז הֵנִיעַ, קֶטֶב לִשְׁכַּתִּי יָשׁוֹדNormal writing (no niqqud):\tאת דלתי הזיז הניע, קטב לשכתי ישודDevanagari, the script used to write Hindi, Sanskrit, and many other South Asian languages, expresses certain vowels as combining marks attached to consonant letters. For example, “ह” + “​ि” = “हि” (“h” + “i” = “hi”).Korean characters stand for syllables, but they are composed of letters called jamo that stand for the vowels and consonants in the syllable. While there are code points for precomposed Korean syllables, it’s also possible to dynamically compose them by concatenating their jamo. For example, “ᄒ” + “ᅡ” + “ᆫ” = “한” (“h” + “a” + “n” = “han”).Canonical EquivalenceIn Unicode, precomposed characters exist alongside the dynamic composition system. A consequence of this is that there are multiple ways to express “the same” string—different sequences of code points that result in the same user-perceived characters. For example, as we saw earlier, we can express the character “Á” either as the single code point U+00C1, or as the string of two code points U+0041 U+0301.Another source of ambiguity is the ordering of multiple diacritics in a single character. Diacritic order matters visually when two diacritics apply to the same side of the base character, e.g. both above: “ǡ” (dot, then macron) is different from “ā̇” (macron, then dot). However, when diacritics apply to different sides of the character, e.g. one above and one below, then the order doesn’t affect rendering. Moreover, a character with multiple diacritics might have one of the diacritics precomposed and others expressed as combining marks.For example, the Vietnamese letter “ệ” can be expressed in five different ways:Fully precomposed: U+1EC7 “ệ”Partially precomposed: U+1EB9 “ẹ” + U+0302 “◌̂”Partially precomposed: U+00EA “ê” + U+0323 “◌̣”Fully decomposed: U+0065 “e” + U+0323 “◌̣” + U+0302 “◌̂”Fully decomposed: U+0065 “e” + U+0302 “◌̂” + U+0323 “◌̣”Unicode refers to set of strings like this as “canonically equivalent”. Canonically equivalent strings are supposed to be treated as identical for purposes of searching, sorting, rendering, text selection, and so on. This has implications for how you implement operations on text. For example, if an app has a “find in file” operation and the user searches for “ệ”, it should, by default, find occurrences of any of the five versions of “ệ” above!Normalization FormsTo address the problem of “how to handle canonically equivalent strings”, Unicode defines several normalization forms: ways of converting strings into a canonical form so that they can be compared code-point-by-code-point (or byte-by-byte).The “NFD” normalization form fully decomposes every character down to its component base and combining marks, taking apart any precomposed code points in the string. It also sorts the combining marks in each character according to their rendered position, so e.g. diacritics that go below the character come before the ones that go above the character. (It doesn’t reorder diacritics in the same rendered position, since their order matters visually, as previously mentioned.)The “NFC” form, conversely, puts things back together into precomposed code points as much as possible. If an unusual combination of diacritics is called for, there may not be any precomposed code point for it, in which case NFC still precomposes what it can and leaves any remaining combining marks in place (again ordered by rendered position, as in NFD).There are also forms called NFKD and NFKC. The “K” here refers to compatibility decompositions, which cover characters that are “similar” in some sense but not visually identical. However, I’m not going to cover that here.Grapheme ClustersAs we’ve seen, Unicode contains various cases where a thing that a user thinks of as a single “character” might actually be made up of multiple code points under the hood. Unicode formalizes this using the notion of a grapheme cluster: a string of one or more code points that constitute a single “user-perceived character”.UAX #29 defines the rules for what, precisely, qualifies as a grapheme cluster. It’s approximately “a base code point followed by any number of combining marks”, but the actual definition is a bit more complicated; it accounts for things like Korean jamo, and emoji ZWJ sequences.The main thing grapheme clusters are used for is text editing: they’re often the most sensible unit for cursor placement and text selection boundaries. Using grapheme clusters for these purposes ensures that you can’t accidentally chop off some diacritics when you copy-and-paste text, that left/right arrow keys always move the cursor by one visible character, and so on.Another place where grapheme clusters are useful is in enforcing a string length limit—say, on a database field. While the true, underlying limit might be something like the byte length of the string in UTF-8, you wouldn’t want to enforce that by just truncating bytes. At a minimum, you’d want to “round down” to the nearest code point boundary; but even better, round down to the nearest grapheme cluster boundary. Otherwise, you might be corrupting the last character by cutting off a diacritic, or interrupting a jamo sequence or ZWJ sequence.And More…There’s much more that could be said about Unicode from a programmer’s perspective! I haven’t gotten into such fun topics as case mapping, collation, compatibility decompositions and confusables, Unicode-aware regexes, or bidirectional text. Nor have I said anything yet about implementation issues—how to efficiently store and look-up data about the sparsely-assigned code points, or how to optimize UTF-8 decoding, string comparison, or NFC normalization. Perhaps I’ll return to some of those things in future posts.Unicode is a fascinating and complex system. It has a many-to-one mapping between bytes and code points, and on top of that a many-to-one (or, under some circumstances, many-to-many) mapping between code points and “characters”. It has oddball special cases in every corner. But no one ever claimed that representing all written languages was going to be easy, and it’s clear that we’re never going back to the bad old days of a patchwork of incompatible encodings.Further reading:The Unicode StandardUTF-8 Everywhere ManifestoDark corners of Unicode by EeveeICU (International Components for Unicode)—C/C++/Java libraries implementing many Unicode algorithms and related thingsPython 3 Unicode HowtoGoogle Noto Fonts—set of fonts intended to cover all assigned code pointsThe Many Meanings of “Shader”\"\n",
        "\n",
        "utf8 = list(map(int, text.encode(\"utf-8\")))"
      ],
      "metadata": {
        "id": "WLWHLZgChG2O"
      },
      "execution_count": null,
      "outputs": []
    },
    {
      "cell_type": "code",
      "source": [
        "from os import replace\n",
        "# Hyper Parameter\n",
        "vocab_size = 276\n",
        "# This makes the numebr of replacements to be 20\n",
        "num_replacement = vocab_size - 256\n",
        "# copy the original to list\n",
        "copy = list(utf8)\n",
        "\n",
        "replacements = {} # recording each of the replacements (int, int) -> int\n",
        "\n",
        "for i in range(num_replacement):\n",
        "  common = find_most_common(copy)\n",
        "  pair = max(common, key=common.get)\n",
        "  replacement_char = 256 + i\n",
        "  copy = replace_key(copy, pair, replacement_char)\n",
        "  replacements[pair] = replacement_char"
      ],
      "metadata": {
        "id": "QQRPQEWblKos"
      },
      "execution_count": null,
      "outputs": []
    },
    {
      "cell_type": "code",
      "source": [
        "# what is the compression ratio?\n",
        "len(utf8) / len(copy)"
      ],
      "metadata": {
        "colab": {
          "base_uri": "https://localhost:8080/"
        },
        "id": "hdulkyTHSyr6",
        "outputId": "5c8fe140-1888-449d-cb29-63613bcb058b"
      },
      "execution_count": null,
      "outputs": [
        {
          "output_type": "execute_result",
          "data": {
            "text/plain": [
              "1.2656832298136647"
            ]
          },
          "metadata": {},
          "execution_count": 16
        }
      ]
    },
    {
      "cell_type": "markdown",
      "source": [
        "Note that the tokenizer is a seperate object than the llm, and it has a potentially different training set, and the llm training is after this since llm only needs to read token sequences"
      ],
      "metadata": {
        "id": "HqAOwGoWTadn"
      }
    },
    {
      "cell_type": "markdown",
      "source": [
        "Roughly speaking, the more training set a certain language takes up in tokenization period will lead to it being performed better"
      ],
      "metadata": {
        "id": "RwHa0OSpUhS_"
      }
    },
    {
      "cell_type": "markdown",
      "source": [
        "### Decoding\n",
        "Token sequence to raw text"
      ],
      "metadata": {
        "id": "da7TrqaUUwoK"
      }
    },
    {
      "cell_type": "code",
      "source": [
        "vocab = {char: bytes([char]) for char in range(0, 256)}\n",
        "for (p0,p1), replaced in replacements.items():\n",
        "  vocab[replaced] = vocab[p0] + vocab[p1]\n",
        "  # bytes objects, so basically just concatenates\n",
        "\n",
        "def decode_try(intList):\n",
        "  tokens = b\"\".join(vocab[char] for char in intList)\n",
        "  text = tokens.decode(\"utf-8\")\n",
        "  return text\n",
        "# However, this may not work since the utf sometimes may need two bytes to represent an int\n",
        "\n",
        "def decode(intList):\n",
        "  tokens = b\"\".join(vocab[char] for char in intList)\n",
        "  text = tokens.decode(\"utf-8\", errors=\"replace\")\n",
        "  return text\n",
        "\n",
        "decode([128])"
      ],
      "metadata": {
        "colab": {
          "base_uri": "https://localhost:8080/",
          "height": 35
        },
        "id": "kAL6SQCwTAiZ",
        "outputId": "334e1623-7415-4c9f-8a5b-587402a6c6ef"
      },
      "execution_count": null,
      "outputs": [
        {
          "output_type": "execute_result",
          "data": {
            "text/plain": [
              "'�'"
            ],
            "application/vnd.google.colaboratory.intrinsic+json": {
              "type": "string"
            }
          },
          "metadata": {},
          "execution_count": 20
        }
      ]
    },
    {
      "cell_type": "markdown",
      "source": [
        "### Encoding\n",
        "Raw text to token sequence"
      ],
      "metadata": {
        "id": "607bdaTfZ3zw"
      }
    },
    {
      "cell_type": "code",
      "source": [],
      "metadata": {
        "id": "on5EEkqdZ3IW"
      },
      "execution_count": null,
      "outputs": []
    }
  ]
}